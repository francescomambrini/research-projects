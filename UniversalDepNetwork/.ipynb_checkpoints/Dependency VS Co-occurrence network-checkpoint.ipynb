{
 "cells": [
  {
   "cell_type": "code",
   "execution_count": 1,
   "metadata": {
    "collapsed": true
   },
   "outputs": [],
   "source": [
    "import nltk\n",
    "import re\n",
    "import os\n",
    "from glob import glob\n",
    "import pandas as pd"
   ]
  },
  {
   "cell_type": "code",
   "execution_count": 2,
   "metadata": {
    "collapsed": true
   },
   "outputs": [],
   "source": [
    "from nltk.grammar import DependencyGrammar\n",
    "from nltk.parse import DependencyGraph"
   ]
  },
  {
   "cell_type": "code",
   "execution_count": 3,
   "metadata": {
    "collapsed": true
   },
   "outputs": [],
   "source": [
    "from nltk.corpus.reader.dependency import DependencyCorpusReader"
   ]
  },
  {
   "cell_type": "code",
   "execution_count": 4,
   "metadata": {
    "collapsed": true
   },
   "outputs": [],
   "source": [
    "import tarfile"
   ]
  },
  {
   "cell_type": "markdown",
   "metadata": {},
   "source": [
    "# What to do"
   ]
  },
  {
   "cell_type": "markdown",
   "metadata": {},
   "source": [
    "1.\t~~Arabic-NYUAD\t629K~~\n",
    "2.\t~~Catalan\t472K~~\n",
    "3.\t~~Czech\t1,330K~~\n",
    "4.\t~~French\t381K~~\n",
    "5.\t~~Hindi\t316K~~\n",
    "6.\t~~Russian-SynTagRus\t988K~~\n",
    "7.\t~~Spanish-AnCora\t495K~~\n",
    "8.\t~~Latin-ITTB\t280K~~\n",
    "9.\t~~Portuguese-BR\t268K~~\n",
    "10.\t~~Norwegian-Bokmaal\t280K~~\n",
    "11.\t~~German\t277K~~\n",
    "\n",
    "Starting Network:\n",
    "lemmas only; keep punct/symbols; with deprel (labeled edges)\n",
    "\n",
    "columns:\n",
    "* lemma-head\n",
    "* lemma-dep\n",
    "* deprel\n",
    "* count"
   ]
  },
  {
   "cell_type": "markdown",
   "metadata": {},
   "source": [
    "# Extract tar for UD"
   ]
  },
  {
   "cell_type": "code",
   "execution_count": 28,
   "metadata": {
    "collapsed": true
   },
   "outputs": [],
   "source": [
    "lgs = [\"Hindi\", \"Russian-SynTagRus\", \"Spanish-AnCora\", \"Latin-ITTB\", \"Portuguese-BR\",\"Norwegian-Bokmaal\"]"
   ]
  },
  {
   "cell_type": "code",
   "execution_count": 5,
   "metadata": {
    "collapsed": false
   },
   "outputs": [],
   "source": [
    "tar = tarfile.open(\"/Users/fmambrini/Downloads/Universal Dependencies 2.0/ud-treebanks-conll2017.tgz\", \"r:gz\")"
   ]
  },
  {
   "cell_type": "code",
   "execution_count": 29,
   "metadata": {
    "collapsed": false
   },
   "outputs": [
    {
     "name": "stdout",
     "output_type": "stream",
     "text": [
      "ud-treebanks-conll2017/UD_Norwegian-Bokmaal\n",
      "ud-treebanks-conll2017/UD_Norwegian-Bokmaal/no_bokmaal-ud-dev.txt\n",
      "ud-treebanks-conll2017/UD_Norwegian-Bokmaal/stats.xml\n",
      "ud-treebanks-conll2017/UD_Norwegian-Bokmaal/no_bokmaal-ud-dev.conllu\n",
      "ud-treebanks-conll2017/UD_Norwegian-Bokmaal/no_bokmaal-ud-train.conllu\n",
      "ud-treebanks-conll2017/UD_Norwegian-Bokmaal/README.md\n",
      "ud-treebanks-conll2017/UD_Norwegian-Bokmaal/no_bokmaal-ud-train.txt\n",
      "ud-treebanks-conll2017/UD_Norwegian-Bokmaal/LICENSE.txt\n"
     ]
    }
   ],
   "source": [
    "name = lgs[-1]\n",
    "for tarinfo in tar:\n",
    "    if name in tarinfo.name:\n",
    "        print(tarinfo.name)"
   ]
  },
  {
   "cell_type": "code",
   "execution_count": 25,
   "metadata": {
    "collapsed": true
   },
   "outputs": [],
   "source": [
    "fold = os.path.join(\"ud-treebanks-conll2017\", \"UD_French\")\n",
    "subdir_and_files = [tarinfo for tarinfo in tar.getmembers() if tarinfo.name.startswith(fold)]"
   ]
  },
  {
   "cell_type": "code",
   "execution_count": 26,
   "metadata": {
    "collapsed": false
   },
   "outputs": [
    {
     "data": {
      "text/plain": [
       "22"
      ]
     },
     "execution_count": 26,
     "metadata": {},
     "output_type": "execute_result"
    }
   ],
   "source": [
    "len(subdir_and_files)"
   ]
  },
  {
   "cell_type": "markdown",
   "metadata": {},
   "source": [
    "The following line of code extracts the selected directory"
   ]
  },
  {
   "cell_type": "code",
   "execution_count": 30,
   "metadata": {
    "collapsed": true
   },
   "outputs": [],
   "source": [
    "tar.extractall(members=subdir_and_files)"
   ]
  },
  {
   "cell_type": "code",
   "execution_count": 31,
   "metadata": {
    "collapsed": false
   },
   "outputs": [
    {
     "name": "stdout",
     "output_type": "stream",
     "text": [
      "Working with Hindi\n",
      "Working with Russian-SynTagRus\n",
      "Working with Spanish-AnCora\n",
      "Working with Latin-ITTB\n",
      "Working with Portuguese-BR\n",
      "Working with Norwegian-Bokmaal\n"
     ]
    }
   ],
   "source": [
    "for l in lgs:\n",
    "    print(\"Working with\", l)\n",
    "    fold = os.path.join(\"ud-treebanks-conll2017\", \"UD_\" + l)\n",
    "    subdir_and_files = [tarinfo for tarinfo in tar.getmembers() if tarinfo.name.startswith(fold)]\n",
    "    tar.extractall(members=subdir_and_files)"
   ]
  },
  {
   "cell_type": "markdown",
   "metadata": {},
   "source": [
    "Then, the next line could be useful to inspect the content"
   ]
  },
  {
   "cell_type": "code",
   "execution_count": 32,
   "metadata": {
    "collapsed": true
   },
   "outputs": [],
   "source": [
    "with open(\"ud-treebanks-conll2017/UD_German/de-ud-dev.conllu\") as f:\n",
    "    lines = f.readlines()"
   ]
  },
  {
   "cell_type": "code",
   "execution_count": 33,
   "metadata": {
    "collapsed": false
   },
   "outputs": [
    {
     "name": "stdout",
     "output_type": "stream",
     "text": [
      "# sent_id = dev-s1\n",
      "\n",
      "# text = Manasse ist ein einzigartiger Parfümeur.\n",
      "\n",
      "1\tManasse\tManasse\tPROPN\tNN\tCase=Nom|Number=Sing\t5\tnsubj\t_\t_\n",
      "\n",
      "2\tist\tsein\tVERB\tVAFIN\tMood=Ind|Number=Sing|Person=3|Tense=Pres|VerbForm=Fin\t5\tcop\t_\t_\n",
      "\n",
      "3\tein\tein\tDET\tART\tDefinite=Ind|PronType=Art\t5\tdet\t_\t_\n",
      "\n",
      "4\teinzigartiger\teinzigartig\tADJ\tADJA\tDegree=Cmp,Pos\t5\tamod\t_\t_\n",
      "\n",
      "5\tParfümeur\tParfümeur\tNOUN\tNN\t_\t0\troot\t_\tSpaceAfter=No\n",
      "\n",
      "6\t.\t.\tPUNCT\t$.\t_\t5\tpunct\t_\t_\n",
      "\n",
      "\n",
      "\n",
      "# sent_id = dev-s2\n",
      "\n"
     ]
    }
   ],
   "source": [
    "sent = lines[:10]\n",
    "for s in sent: print(s)"
   ]
  },
  {
   "cell_type": "code",
   "execution_count": 132,
   "metadata": {
    "collapsed": false
   },
   "outputs": [
    {
     "data": {
      "image/svg+xml": [
       "<?xml version=\"1.0\" encoding=\"UTF-8\" standalone=\"no\"?>\n",
       "<!DOCTYPE svg PUBLIC \"-//W3C//DTD SVG 1.1//EN\"\n",
       " \"http://www.w3.org/Graphics/SVG/1.1/DTD/svg11.dtd\">\n",
       "<!-- Generated by graphviz version 2.32.0 (20130801.1934)\n",
       " -->\n",
       "<!-- Title: G Pages: 1 -->\n",
       "<svg width=\"435pt\" height=\"220pt\"\n",
       " viewBox=\"0.00 0.00 435.00 220.00\" xmlns=\"http://www.w3.org/2000/svg\" xmlns:xlink=\"http://www.w3.org/1999/xlink\">\n",
       "<g id=\"graph0\" class=\"graph\" transform=\"scale(1 1) rotate(0) translate(4 216)\">\n",
       "<title>G</title>\n",
       "<polygon fill=\"white\" stroke=\"white\" points=\"-4,5 -4,-216 432,-216 432,5 -4,5\"/>\n",
       "<!-- 0 -->\n",
       "<g id=\"node1\" class=\"node\"><title>0</title>\n",
       "<text text-anchor=\"middle\" x=\"202\" y=\"-190.3\" font-family=\"Times,serif\" font-size=\"14.00\">0 (None)</text>\n",
       "</g>\n",
       "<!-- 5 -->\n",
       "<g id=\"node2\" class=\"node\"><title>5</title>\n",
       "<text text-anchor=\"middle\" x=\"202\" y=\"-102.3\" font-family=\"Times,serif\" font-size=\"14.00\">5 (Parfümeur)</text>\n",
       "</g>\n",
       "<!-- 0&#45;&gt;5 -->\n",
       "<g id=\"edge1\" class=\"edge\"><title>0&#45;&gt;5</title>\n",
       "<path fill=\"none\" stroke=\"black\" d=\"M202,-175.597C202,-163.746 202,-147.817 202,-134.292\"/>\n",
       "<polygon fill=\"black\" stroke=\"black\" points=\"205.5,-134.084 202,-124.084 198.5,-134.084 205.5,-134.084\"/>\n",
       "<text text-anchor=\"middle\" x=\"213.5\" y=\"-146.3\" font-family=\"Times,serif\" font-size=\"14.00\">root</text>\n",
       "</g>\n",
       "<!-- 1 -->\n",
       "<g id=\"node3\" class=\"node\"><title>1</title>\n",
       "<text text-anchor=\"middle\" x=\"42\" y=\"-14.3\" font-family=\"Times,serif\" font-size=\"14.00\">1 (Manasse)</text>\n",
       "</g>\n",
       "<!-- 5&#45;&gt;1 -->\n",
       "<g id=\"edge6\" class=\"edge\"><title>5&#45;&gt;1</title>\n",
       "<path fill=\"none\" stroke=\"black\" d=\"M161.975,-87.9434C149.938,-82.511 136.798,-76.2747 125,-70 108.801,-61.3845 91.4263,-50.9125 76.7812,-41.7045\"/>\n",
       "<polygon fill=\"black\" stroke=\"black\" points=\"78.3686,-38.5666 68.0502,-36.1625 74.6173,-44.4765 78.3686,-38.5666\"/>\n",
       "<text text-anchor=\"middle\" x=\"140.5\" y=\"-58.3\" font-family=\"Times,serif\" font-size=\"14.00\">nsubj</text>\n",
       "</g>\n",
       "<!-- 2 -->\n",
       "<g id=\"node4\" class=\"node\"><title>2</title>\n",
       "<text text-anchor=\"middle\" x=\"130\" y=\"-14.3\" font-family=\"Times,serif\" font-size=\"14.00\">2 (ist)</text>\n",
       "</g>\n",
       "<!-- 5&#45;&gt;2 -->\n",
       "<g id=\"edge4\" class=\"edge\"><title>5&#45;&gt;2</title>\n",
       "<path fill=\"none\" stroke=\"black\" d=\"M187.43,-87.5966C176.919,-75.0419 162.576,-57.9099 150.853,-43.9081\"/>\n",
       "<polygon fill=\"black\" stroke=\"black\" points=\"153.406,-41.5048 144.303,-36.084 148.039,-45.9984 153.406,-41.5048\"/>\n",
       "<text text-anchor=\"middle\" x=\"183.5\" y=\"-58.3\" font-family=\"Times,serif\" font-size=\"14.00\">cop</text>\n",
       "</g>\n",
       "<!-- 3 -->\n",
       "<g id=\"node5\" class=\"node\"><title>3</title>\n",
       "<text text-anchor=\"middle\" x=\"202\" y=\"-14.3\" font-family=\"Times,serif\" font-size=\"14.00\">3 (ein)</text>\n",
       "</g>\n",
       "<!-- 5&#45;&gt;3 -->\n",
       "<g id=\"edge2\" class=\"edge\"><title>5&#45;&gt;3</title>\n",
       "<path fill=\"none\" stroke=\"black\" d=\"M202,-87.5966C202,-75.7459 202,-59.8169 202,-46.2917\"/>\n",
       "<polygon fill=\"black\" stroke=\"black\" points=\"205.5,-46.084 202,-36.084 198.5,-46.084 205.5,-46.084\"/>\n",
       "<text text-anchor=\"middle\" x=\"211\" y=\"-58.3\" font-family=\"Times,serif\" font-size=\"14.00\">det</text>\n",
       "</g>\n",
       "<!-- 4 -->\n",
       "<g id=\"node6\" class=\"node\"><title>4</title>\n",
       "<text text-anchor=\"middle\" x=\"301\" y=\"-14.3\" font-family=\"Times,serif\" font-size=\"14.00\">4 (einzigartiger)</text>\n",
       "</g>\n",
       "<!-- 5&#45;&gt;4 -->\n",
       "<g id=\"edge3\" class=\"edge\"><title>5&#45;&gt;4</title>\n",
       "<path fill=\"none\" stroke=\"black\" d=\"M222.034,-87.5966C236.892,-74.6899 257.318,-56.9457 273.674,-42.7379\"/>\n",
       "<polygon fill=\"black\" stroke=\"black\" points=\"276.079,-45.2843 281.334,-36.084 271.489,-39.9998 276.079,-45.2843\"/>\n",
       "<text text-anchor=\"middle\" x=\"277\" y=\"-58.3\" font-family=\"Times,serif\" font-size=\"14.00\">amod</text>\n",
       "</g>\n",
       "<!-- 6 -->\n",
       "<g id=\"node7\" class=\"node\"><title>6</title>\n",
       "<text text-anchor=\"middle\" x=\"400\" y=\"-14.3\" font-family=\"Times,serif\" font-size=\"14.00\">6 (.)</text>\n",
       "</g>\n",
       "<!-- 5&#45;&gt;6 -->\n",
       "<g id=\"edge5\" class=\"edge\"><title>5&#45;&gt;6</title>\n",
       "<path fill=\"none\" stroke=\"black\" d=\"M249.262,-88.7142C264.625,-83.1219 281.662,-76.6004 297,-70 319.525,-60.3071 344.159,-48.1678 363.687,-38.1644\"/>\n",
       "<polygon fill=\"black\" stroke=\"black\" points=\"365.55,-41.1415 372.832,-33.4453 362.34,-34.9209 365.55,-41.1415\"/>\n",
       "<text text-anchor=\"middle\" x=\"348\" y=\"-58.3\" font-family=\"Times,serif\" font-size=\"14.00\">punct</text>\n",
       "</g>\n",
       "</g>\n",
       "</svg>\n"
      ],
      "text/plain": [
       "<DependencyGraph with 7 nodes>"
      ]
     },
     "execution_count": 132,
     "metadata": {},
     "output_type": "execute_result"
    }
   ],
   "source": [
    "d = DependencyGraph(sent, top_relation_label=\"root\")\n",
    "d"
   ]
  },
  {
   "cell_type": "markdown",
   "metadata": {},
   "source": [
    "# Load the corpus"
   ]
  },
  {
   "cell_type": "code",
   "execution_count": 278,
   "metadata": {
    "collapsed": true
   },
   "outputs": [],
   "source": [
    "r = \"ud-treebanks-conll2017/UD_Latin-ITTB/\""
   ]
  },
  {
   "cell_type": "markdown",
   "metadata": {},
   "source": [
    "## Convert CoNLLu to CoNLLx"
   ]
  },
  {
   "cell_type": "markdown",
   "metadata": {},
   "source": [
    "The DependencyCorpusReader doesn't work with CoNLLU: we need to convert everything to the old CoNLLX format"
   ]
  },
  {
   "cell_type": "code",
   "execution_count": 180,
   "metadata": {
    "collapsed": false
   },
   "outputs": [],
   "source": [
    "fs = glob(r + \"*/*.conllu\")"
   ]
  },
  {
   "cell_type": "code",
   "execution_count": 181,
   "metadata": {
    "collapsed": false
   },
   "outputs": [
    {
     "data": {
      "text/plain": [
       "[]"
      ]
     },
     "execution_count": 181,
     "metadata": {},
     "output_type": "execute_result"
    }
   ],
   "source": [
    "fs"
   ]
  },
  {
   "cell_type": "code",
   "execution_count": 38,
   "metadata": {
    "collapsed": true
   },
   "outputs": [],
   "source": [
    "for f in fs:\n",
    "    out = f.replace(\".conllu\", \".conllx\")\n",
    "    !perl conllu_to_conllx.pl {f} > {out}"
   ]
  },
  {
   "cell_type": "markdown",
   "metadata": {},
   "source": [
    "## DependencyCorpusReader"
   ]
  },
  {
   "cell_type": "markdown",
   "metadata": {},
   "source": [
    "The parsed_sents method has a small problem: it assumes \"ROOT\" as the top relation, yet at least some CoNLLU files have \"root\"; the all-caps version is what the DependencyGraph object loader expects as default, and there's no way to pass a different value to it. It is however pretty easy to overrite:"
   ]
  },
  {
   "cell_type": "code",
   "execution_count": 279,
   "metadata": {
    "collapsed": true
   },
   "outputs": [],
   "source": [
    "def fixed_parsed_sents(self, fileids=None, top_label=\"root\"):\n",
    "    from nltk.corpus.reader.util import concat\n",
    "    from nltk.corpus.reader.dependency import DependencyCorpusView\n",
    "    from nltk.parse import DependencyGraph\n",
    "    \n",
    "    sents=concat([DependencyCorpusView(fileid, False, True, True, encoding=enc)\n",
    "                  for fileid, enc in self.abspaths(fileids, include_encoding=True)])\n",
    "    return [DependencyGraph(sent, top_relation_label=top_label) for sent in sents]"
   ]
  },
  {
   "cell_type": "code",
   "execution_count": 280,
   "metadata": {
    "collapsed": true
   },
   "outputs": [],
   "source": [
    "DependencyCorpusReader.parsed_sents = fixed_parsed_sents"
   ]
  },
  {
   "cell_type": "code",
   "execution_count": 281,
   "metadata": {
    "collapsed": false
   },
   "outputs": [],
   "source": [
    "unidep = DependencyCorpusReader(r, r\".*\\.conllx\")"
   ]
  },
  {
   "cell_type": "code",
   "execution_count": 282,
   "metadata": {
    "collapsed": false
   },
   "outputs": [
    {
     "data": {
      "text/plain": [
       "['la_ittb-ud-dev.conllx', 'la_ittb-ud-train.conllx']"
      ]
     },
     "execution_count": 282,
     "metadata": {},
     "output_type": "execute_result"
    }
   ],
   "source": [
    "unidep.fileids()"
   ]
  },
  {
   "cell_type": "code",
   "execution_count": 297,
   "metadata": {
    "collapsed": false
   },
   "outputs": [],
   "source": [
    "#parsed_dev = unidep.parsed_sents('de-ud-dev.conllx')\n",
    "#parsed_train = unidep.parsed_sents('de-ud-train.conllx')\n",
    "parsed = unidep.parsed_sents()"
   ]
  },
  {
   "cell_type": "code",
   "execution_count": 298,
   "metadata": {
    "collapsed": false
   },
   "outputs": [],
   "source": [
    "d = parsed[1]"
   ]
  },
  {
   "cell_type": "code",
   "execution_count": 285,
   "metadata": {
    "collapsed": false
   },
   "outputs": [
    {
     "data": {
      "image/svg+xml": [
       "<?xml version=\"1.0\" encoding=\"UTF-8\" standalone=\"no\"?>\n",
       "<!DOCTYPE svg PUBLIC \"-//W3C//DTD SVG 1.1//EN\"\n",
       " \"http://www.w3.org/Graphics/SVG/1.1/DTD/svg11.dtd\">\n",
       "<!-- Generated by graphviz version 2.32.0 (20130801.1934)\n",
       " -->\n",
       "<!-- Title: G Pages: 1 -->\n",
       "<svg width=\"567pt\" height=\"396pt\"\n",
       " viewBox=\"0.00 0.00 567.00 396.00\" xmlns=\"http://www.w3.org/2000/svg\" xmlns:xlink=\"http://www.w3.org/1999/xlink\">\n",
       "<g id=\"graph0\" class=\"graph\" transform=\"scale(1 1) rotate(0) translate(4 392)\">\n",
       "<title>G</title>\n",
       "<polygon fill=\"white\" stroke=\"white\" points=\"-4,5 -4,-392 564,-392 564,5 -4,5\"/>\n",
       "<!-- 0 -->\n",
       "<g id=\"node1\" class=\"node\"><title>0</title>\n",
       "<text text-anchor=\"middle\" x=\"167\" y=\"-366.3\" font-family=\"Times,serif\" font-size=\"14.00\">0 (None)</text>\n",
       "</g>\n",
       "<!-- 2 -->\n",
       "<g id=\"node2\" class=\"node\"><title>2</title>\n",
       "<text text-anchor=\"middle\" x=\"167\" y=\"-278.3\" font-family=\"Times,serif\" font-size=\"14.00\">2 (meditabitur)</text>\n",
       "</g>\n",
       "<!-- 0&#45;&gt;2 -->\n",
       "<g id=\"edge1\" class=\"edge\"><title>0&#45;&gt;2</title>\n",
       "<path fill=\"none\" stroke=\"black\" d=\"M167,-351.597C167,-339.746 167,-323.817 167,-310.292\"/>\n",
       "<polygon fill=\"black\" stroke=\"black\" points=\"170.5,-310.084 167,-300.084 163.5,-310.084 170.5,-310.084\"/>\n",
       "<text text-anchor=\"middle\" x=\"178.5\" y=\"-322.3\" font-family=\"Times,serif\" font-size=\"14.00\">root</text>\n",
       "</g>\n",
       "<!-- 1 -->\n",
       "<g id=\"node3\" class=\"node\"><title>1</title>\n",
       "<text text-anchor=\"middle\" x=\"44\" y=\"-190.3\" font-family=\"Times,serif\" font-size=\"14.00\">1 (veritatem)</text>\n",
       "</g>\n",
       "<!-- 2&#45;&gt;1 -->\n",
       "<g id=\"edge5\" class=\"edge\"><title>2&#45;&gt;1</title>\n",
       "<path fill=\"none\" stroke=\"black\" d=\"M142.405,-263.803C123.634,-250.679 97.584,-232.465 77.0017,-218.074\"/>\n",
       "<polygon fill=\"black\" stroke=\"black\" points=\"78.7537,-215.029 68.5526,-212.167 74.7425,-220.765 78.7537,-215.029\"/>\n",
       "<text text-anchor=\"middle\" x=\"126\" y=\"-234.3\" font-family=\"Times,serif\" font-size=\"14.00\">obj</text>\n",
       "</g>\n",
       "<!-- 11 -->\n",
       "<g id=\"node4\" class=\"node\"><title>11</title>\n",
       "<text text-anchor=\"middle\" x=\"134\" y=\"-190.3\" font-family=\"Times,serif\" font-size=\"14.00\">11 (.)</text>\n",
       "</g>\n",
       "<!-- 2&#45;&gt;11 -->\n",
       "<g id=\"edge2\" class=\"edge\"><title>2&#45;&gt;11</title>\n",
       "<path fill=\"none\" stroke=\"black\" d=\"M155.865,-263.661C152.676,-258.168 149.414,-251.969 147,-246 143.951,-238.461 141.45,-230 139.486,-222.169\"/>\n",
       "<polygon fill=\"black\" stroke=\"black\" points=\"142.881,-221.318 137.211,-212.368 136.063,-222.901 142.881,-221.318\"/>\n",
       "<text text-anchor=\"middle\" x=\"163\" y=\"-234.3\" font-family=\"Times,serif\" font-size=\"14.00\">punct</text>\n",
       "</g>\n",
       "<!-- 3 -->\n",
       "<g id=\"node5\" class=\"node\"><title>3</title>\n",
       "<text text-anchor=\"middle\" x=\"214\" y=\"-190.3\" font-family=\"Times,serif\" font-size=\"14.00\">3 (guttur)</text>\n",
       "</g>\n",
       "<!-- 2&#45;&gt;3 -->\n",
       "<g id=\"edge3\" class=\"edge\"><title>2&#45;&gt;3</title>\n",
       "<path fill=\"none\" stroke=\"black\" d=\"M176.511,-263.597C183.18,-251.394 192.212,-234.867 199.74,-221.093\"/>\n",
       "<polygon fill=\"black\" stroke=\"black\" points=\"202.939,-222.538 204.663,-212.084 196.796,-219.181 202.939,-222.538\"/>\n",
       "<text text-anchor=\"middle\" x=\"224.5\" y=\"-234.3\" font-family=\"Times,serif\" font-size=\"14.00\">nsubj:pass</text>\n",
       "</g>\n",
       "<!-- 9 -->\n",
       "<g id=\"node6\" class=\"node\"><title>9</title>\n",
       "<text text-anchor=\"middle\" x=\"345\" y=\"-190.3\" font-family=\"Times,serif\" font-size=\"14.00\">9 (detestabuntur)</text>\n",
       "</g>\n",
       "<!-- 2&#45;&gt;9 -->\n",
       "<g id=\"edge4\" class=\"edge\"><title>2&#45;&gt;9</title>\n",
       "<path fill=\"none\" stroke=\"black\" d=\"M215.794,-263.912C229.632,-258.617 244.579,-252.462 258,-246 275.539,-237.556 294.253,-226.827 309.813,-217.391\"/>\n",
       "<polygon fill=\"black\" stroke=\"black\" points=\"311.886,-220.225 318.578,-212.011 308.224,-214.259 311.886,-220.225\"/>\n",
       "<text text-anchor=\"middle\" x=\"300.5\" y=\"-234.3\" font-family=\"Times,serif\" font-size=\"14.00\">conj</text>\n",
       "</g>\n",
       "<!-- 4 -->\n",
       "<g id=\"node7\" class=\"node\"><title>4</title>\n",
       "<text text-anchor=\"middle\" x=\"192\" y=\"-102.3\" font-family=\"Times,serif\" font-size=\"14.00\">4 (meum)</text>\n",
       "</g>\n",
       "<!-- 3&#45;&gt;4 -->\n",
       "<g id=\"edge6\" class=\"edge\"><title>3&#45;&gt;4</title>\n",
       "<path fill=\"none\" stroke=\"black\" d=\"M209.548,-175.597C206.486,-163.629 202.361,-147.501 198.879,-133.891\"/>\n",
       "<polygon fill=\"black\" stroke=\"black\" points=\"202.24,-132.905 196.37,-124.084 195.458,-134.639 202.24,-132.905\"/>\n",
       "<text text-anchor=\"middle\" x=\"214\" y=\"-146.3\" font-family=\"Times,serif\" font-size=\"14.00\">det</text>\n",
       "</g>\n",
       "<!-- 5 -->\n",
       "<g id=\"node8\" class=\"node\"><title>5</title>\n",
       "<text text-anchor=\"middle\" x=\"273\" y=\"-102.3\" font-family=\"Times,serif\" font-size=\"14.00\">5 (,)</text>\n",
       "</g>\n",
       "<!-- 9&#45;&gt;5 -->\n",
       "<g id=\"edge8\" class=\"edge\"><title>9&#45;&gt;5</title>\n",
       "<path fill=\"none\" stroke=\"black\" d=\"M326.021,-175.819C320.324,-170.332 314.21,-164.097 309,-158 302.207,-150.05 295.421,-140.848 289.601,-132.467\"/>\n",
       "<polygon fill=\"black\" stroke=\"black\" points=\"292.442,-130.421 283.927,-124.118 286.653,-134.356 292.442,-130.421\"/>\n",
       "<text text-anchor=\"middle\" x=\"325\" y=\"-146.3\" font-family=\"Times,serif\" font-size=\"14.00\">punct</text>\n",
       "</g>\n",
       "<!-- 6 -->\n",
       "<g id=\"node9\" class=\"node\"><title>6</title>\n",
       "<text text-anchor=\"middle\" x=\"345\" y=\"-102.3\" font-family=\"Times,serif\" font-size=\"14.00\">6 (et)</text>\n",
       "</g>\n",
       "<!-- 9&#45;&gt;6 -->\n",
       "<g id=\"edge11\" class=\"edge\"><title>9&#45;&gt;6</title>\n",
       "<path fill=\"none\" stroke=\"black\" d=\"M345,-175.597C345,-163.746 345,-147.817 345,-134.292\"/>\n",
       "<polygon fill=\"black\" stroke=\"black\" points=\"348.5,-134.084 345,-124.084 341.5,-134.084 348.5,-134.084\"/>\n",
       "<text text-anchor=\"middle\" x=\"351.5\" y=\"-146.3\" font-family=\"Times,serif\" font-size=\"14.00\">cc</text>\n",
       "</g>\n",
       "<!-- 7 -->\n",
       "<g id=\"node10\" class=\"node\"><title>7</title>\n",
       "<text text-anchor=\"middle\" x=\"422\" y=\"-102.3\" font-family=\"Times,serif\" font-size=\"14.00\">7 (labia)</text>\n",
       "</g>\n",
       "<!-- 9&#45;&gt;7 -->\n",
       "<g id=\"edge9\" class=\"edge\"><title>9&#45;&gt;7</title>\n",
       "<path fill=\"none\" stroke=\"black\" d=\"M360.582,-175.597C371.823,-163.042 387.162,-145.91 399.699,-131.908\"/>\n",
       "<polygon fill=\"black\" stroke=\"black\" points=\"402.641,-133.869 406.704,-124.084 397.426,-129.199 402.641,-133.869\"/>\n",
       "<text text-anchor=\"middle\" x=\"420.5\" y=\"-146.3\" font-family=\"Times,serif\" font-size=\"14.00\">nsubj:pass</text>\n",
       "</g>\n",
       "<!-- 10 -->\n",
       "<g id=\"node12\" class=\"node\"><title>10</title>\n",
       "<text text-anchor=\"middle\" x=\"516\" y=\"-102.3\" font-family=\"Times,serif\" font-size=\"14.00\">10 (impium)</text>\n",
       "</g>\n",
       "<!-- 9&#45;&gt;10 -->\n",
       "<g id=\"edge10\" class=\"edge\"><title>9&#45;&gt;10</title>\n",
       "<path fill=\"none\" stroke=\"black\" d=\"M401.002,-179.443C418.548,-174.045 437.6,-166.949 454,-158 467.259,-150.765 480.404,-140.515 491.154,-131.1\"/>\n",
       "<polygon fill=\"black\" stroke=\"black\" points=\"493.798,-133.429 498.871,-124.127 489.104,-128.235 493.798,-133.429\"/>\n",
       "<text text-anchor=\"middle\" x=\"486\" y=\"-146.3\" font-family=\"Times,serif\" font-size=\"14.00\">obj</text>\n",
       "</g>\n",
       "<!-- 8 -->\n",
       "<g id=\"node11\" class=\"node\"><title>8</title>\n",
       "<text text-anchor=\"middle\" x=\"422\" y=\"-14.3\" font-family=\"Times,serif\" font-size=\"14.00\">8 (mea)</text>\n",
       "</g>\n",
       "<!-- 7&#45;&gt;8 -->\n",
       "<g id=\"edge7\" class=\"edge\"><title>7&#45;&gt;8</title>\n",
       "<path fill=\"none\" stroke=\"black\" d=\"M422,-87.5966C422,-75.7459 422,-59.8169 422,-46.2917\"/>\n",
       "<polygon fill=\"black\" stroke=\"black\" points=\"425.5,-46.084 422,-36.084 418.5,-46.084 425.5,-46.084\"/>\n",
       "<text text-anchor=\"middle\" x=\"431\" y=\"-58.3\" font-family=\"Times,serif\" font-size=\"14.00\">det</text>\n",
       "</g>\n",
       "</g>\n",
       "</svg>\n"
      ],
      "text/plain": [
       "<DependencyGraph with 12 nodes>"
      ]
     },
     "execution_count": 285,
     "metadata": {},
     "output_type": "execute_result"
    }
   ],
   "source": [
    "d"
   ]
  },
  {
   "cell_type": "markdown",
   "metadata": {},
   "source": [
    "This is what the triples method yields:"
   ]
  },
  {
   "cell_type": "code",
   "execution_count": 299,
   "metadata": {
    "collapsed": false
   },
   "outputs": [
    {
     "name": "stdout",
     "output_type": "stream",
     "text": [
      "(('meditabitur', 'VERB'), 'obj', ('veritatem', 'NOUN'))\n",
      "(('meditabitur', 'VERB'), 'nsubj:pass', ('guttur', 'NOUN'))\n",
      "(('guttur', 'NOUN'), 'det', ('meum', 'DET'))\n",
      "(('meditabitur', 'VERB'), 'conj', ('detestabuntur', 'VERB'))\n",
      "(('detestabuntur', 'VERB'), 'punct', (',', 'PUNCT'))\n",
      "(('detestabuntur', 'VERB'), 'cc', ('et', 'CCONJ'))\n",
      "(('detestabuntur', 'VERB'), 'nsubj:pass', ('labia', 'NOUN'))\n",
      "(('labia', 'NOUN'), 'det', ('mea', 'DET'))\n",
      "(('detestabuntur', 'VERB'), 'obj', ('impium', 'ADJ'))\n",
      "(('meditabitur', 'VERB'), 'punct', ('.', 'PUNCT'))\n"
     ]
    }
   ],
   "source": [
    "for n in d.triples(): print(n)"
   ]
  },
  {
   "cell_type": "markdown",
   "metadata": {},
   "source": [
    "I would like to be able what kind of column to output there, e.g. whether I want the word or the lemma, or whether the ctag or the full tag. For that we have to ovverrite the method as well..."
   ]
  },
  {
   "cell_type": "code",
   "execution_count": 306,
   "metadata": {
    "collapsed": true
   },
   "outputs": [],
   "source": [
    "def new_triples(self, node=None, word_label = \"word\", tag_label=\"ctag\"):\n",
    "        \"\"\"\n",
    "        Extract dependency triples of the form:\n",
    "        ((head word, head tag), rel, (dep word, dep tag))\n",
    "        \"\"\"\n",
    "        \n",
    "        from itertools import chain\n",
    "        \n",
    "        assert word_label in [\"word\", \"lemma\"], \"Select either word or lemma as label!\"\n",
    "        assert tag_label in [\"tag\", \"ctag\"], \"Select either tag or ctag as label!\"\n",
    "\n",
    "        if not node:\n",
    "            node = self.root\n",
    "\n",
    "        head = (node[word_label], node[tag_label])\n",
    "        for i in sorted(chain.from_iterable(node['deps'].values())):\n",
    "            dep = self.get_by_address(i)\n",
    "            yield (head, dep['rel'], (dep[word_label], dep[tag_label]))\n",
    "            for triple in self.triples(node=dep, word_label=word_label, tag_label=tag_label):\n",
    "                yield triple"
   ]
  },
  {
   "cell_type": "code",
   "execution_count": 301,
   "metadata": {
    "collapsed": true
   },
   "outputs": [],
   "source": [
    "DependencyGraph.triples = new_triples"
   ]
  },
  {
   "cell_type": "code",
   "execution_count": 305,
   "metadata": {
    "collapsed": false
   },
   "outputs": [
    {
     "data": {
      "text/plain": [
       "{'address': 2,\n",
       " 'ctag': 'VERB',\n",
       " 'deps': defaultdict(list,\n",
       "             {'conj': [9], 'nsubj:pass': [3], 'obj': [1], 'punct': [11]}),\n",
       " 'feats': 'Mood=Ind|Number=Sing|Person=3|Tense=Fut|VerbForm=Fin|Voice=Pass',\n",
       " 'head': 0,\n",
       " 'lemma': 'meditor',\n",
       " 'rel': 'root',\n",
       " 'tag': 'J3|modJ|tem3|gen6|stAC',\n",
       " 'word': 'meditabitur'}"
      ]
     },
     "execution_count": 305,
     "metadata": {},
     "output_type": "execute_result"
    }
   ],
   "source": [
    "d.nodes[2]"
   ]
  },
  {
   "cell_type": "code",
   "execution_count": 287,
   "metadata": {
    "collapsed": true
   },
   "outputs": [
    {
     "name": "stdout",
     "output_type": "stream",
     "text": [
      "(('meditabitur', 'VERB'), 'obj', ('veritatem', 'NOUN'))\n",
      "(('meditabitur', 'VERB'), 'nsubj:pass', ('guttur', 'NOUN'))\n",
      "(('guttur', 'NOUN'), 'det', ('meum', 'DET'))\n",
      "(('meditabitur', 'VERB'), 'conj', ('detestabuntur', 'VERB'))\n",
      "(('detestabuntur', 'VERB'), 'punct', (',', 'PUNCT'))\n",
      "(('detestabuntur', 'VERB'), 'cc', ('et', 'CCONJ'))\n",
      "(('detestabuntur', 'VERB'), 'nsubj:pass', ('labia', 'NOUN'))\n",
      "(('labia', 'NOUN'), 'det', ('mea', 'DET'))\n",
      "(('detestabuntur', 'VERB'), 'obj', ('impium', 'ADJ'))\n",
      "(('meditabitur', 'VERB'), 'punct', ('.', 'PUNCT'))\n"
     ]
    }
   ],
   "source": [
    "for n in d.triples(): print(n)"
   ]
  },
  {
   "cell_type": "code",
   "execution_count": 300,
   "metadata": {
    "collapsed": false
   },
   "outputs": [
    {
     "name": "stdout",
     "output_type": "stream",
     "text": [
      "(('meditor', 'VERB'), 'obj', ('veritas', 'NOUN'))\n",
      "(('meditor', 'VERB'), 'nsubj:pass', ('guttur', 'NOUN'))\n",
      "(('guttur', 'NOUN'), 'det', ('meus', 'DET'))\n",
      "(('meditor', 'VERB'), 'conj', ('detestor', 'VERB'))\n",
      "(('detestor', 'VERB'), 'punct', (',', 'PUNCT'))\n",
      "(('detestor', 'VERB'), 'cc', ('et', 'CCONJ'))\n",
      "(('detestor', 'VERB'), 'nsubj:pass', ('labium', 'NOUN'))\n",
      "(('labium', 'NOUN'), 'det', ('meus', 'DET'))\n",
      "(('detestor', 'VERB'), 'obj', ('impius', 'ADJ'))\n",
      "(('meditor', 'VERB'), 'punct', ('.', 'PUNCT'))\n"
     ]
    }
   ],
   "source": [
    "for n in d.triples(word_label=\"lemma\", tag_label=\"ctag\"): print(n)"
   ]
  },
  {
   "cell_type": "markdown",
   "metadata": {},
   "source": [
    "It works!"
   ]
  },
  {
   "cell_type": "markdown",
   "metadata": {},
   "source": [
    "# Generate the network data"
   ]
  },
  {
   "cell_type": "markdown",
   "metadata": {},
   "source": [
    "We need to extract a series of: Lemma-head -[rel]-> Lemma-dep\n",
    "\n",
    "Ultimately we need a tab like e.g.:"
   ]
  },
  {
   "cell_type": "markdown",
   "metadata": {},
   "source": [
    "| Head-Lemma    | Dep-Lemma     | Relation | Count |\n",
    "| ------------- |:------------- |:-----:   |------:|\n",
    "| haben         | Gelegenheit   |    obj   | 100   |"
   ]
  },
  {
   "cell_type": "markdown",
   "metadata": {},
   "source": [
    "So we start collecting a dataframe: head-lemma, dep-lemma, relation"
   ]
  },
  {
   "cell_type": "markdown",
   "metadata": {},
   "source": [
    "## Collect the data"
   ]
  },
  {
   "cell_type": "markdown",
   "metadata": {},
   "source": [
    "We decided that:\n",
    "* feat of dep-rel (e.g. nsubj:pass) are simplified: nsubj:pass >> nsubj\n",
    "* punctuation is left out (we record on a log the number of cases and the index of sentences where tokens tagged as PUNCT are heads of a relation)\n",
    "* but before, we cleaned the data: we skipped those sentences where punctuation marks are used as head"
   ]
  },
  {
   "cell_type": "code",
   "execution_count": 342,
   "metadata": {
    "collapsed": true
   },
   "outputs": [],
   "source": [
    "def hasPunctHead(parsed_sent):\n",
    "    for n in parsed_sent.triples():\n",
    "        if n[0][1] == \"PUNCT\":\n",
    "            return True\n",
    "    return False"
   ]
  },
  {
   "cell_type": "code",
   "execution_count": null,
   "metadata": {
    "collapsed": true
   },
   "outputs": [],
   "source": [
    "def countNodes(parsed_sent):\n",
    "    \"\"\"count the tokens in a sentence (purging punctuation);\n",
    "    :return: int: the count\n",
    "    \"\"\"\n",
    "    i =0\n",
    "    for k,v in d.nodes.items():\n",
    "        if v[\"ctag\"] == \"PUNCT\" or v[\"ctag\"] == \"TOP\":\n",
    "            continue\n",
    "        else:\n",
    "            i +=1\n",
    "    return i"
   ]
  },
  {
   "cell_type": "code",
   "execution_count": 332,
   "metadata": {
    "collapsed": false
   },
   "outputs": [],
   "source": [
    "def getHeadDepDataFrame(parsed_sents):\n",
    "    head, dep, rel = [], [], []\n",
    "    i = 0\n",
    "    token_count = 0\n",
    "    for s in parsed_sents:\n",
    "        if hasPunctHead(s) == False:\n",
    "            for n in s.triples(word_label=\"lemma\"):\n",
    "                if n[0][1] == 'PUNCT':\n",
    "                    print(\"{}: Punctuation as head!\".format(i))\n",
    "                    continue\n",
    "                if n[2][1] == \"PUNCT\":\n",
    "                    continue\n",
    "                head.append(n[0][0])\n",
    "                #htag.append(n[0][1])\n",
    "                #clean relation feature:\n",
    "                rel.append(n[1].split(\":\")[0])\n",
    "                dep.append(n[2][0])\n",
    "                #dtag.append(n[2][1])\n",
    "            token_count = token_count + countNodes(s)\n",
    "        i += 1\n",
    "        if token_count > 250000:\n",
    "            print(\"Finalizing the Dataframe at {} tokens after {} sentences\".format(token_count, i+1))\n",
    "            break\n",
    "    df_dep = pd.DataFrame({\"Head_Lemma\" : head, \"Dep_Lemma\" : dep, \"Relation\" : rel })\n",
    "    return df_dep"
   ]
  },
  {
   "cell_type": "code",
   "execution_count": 333,
   "metadata": {
    "collapsed": false
   },
   "outputs": [],
   "source": [
    "df_dep_lemma = getHeadDepDataFrame(parsed)"
   ]
  },
  {
   "cell_type": "code",
   "execution_count": 335,
   "metadata": {
    "collapsed": false
   },
   "outputs": [
    {
     "data": {
      "text/plain": [
       "225269"
      ]
     },
     "execution_count": 335,
     "metadata": {},
     "output_type": "execute_result"
    }
   ],
   "source": [
    "len(df_dep_lemma)"
   ]
  },
  {
   "cell_type": "code",
   "execution_count": 338,
   "metadata": {
    "collapsed": false
   },
   "outputs": [
    {
     "data": {
      "text/html": [
       "<div style=\"max-height:1000px;max-width:1500px;overflow:auto;\">\n",
       "<table border=\"1\" class=\"dataframe\">\n",
       "  <thead>\n",
       "    <tr style=\"text-align: right;\">\n",
       "      <th></th>\n",
       "      <th>Dep_Lemma</th>\n",
       "      <th>Head_Lemma</th>\n",
       "      <th>Relation</th>\n",
       "    </tr>\n",
       "  </thead>\n",
       "  <tbody>\n",
       "    <tr>\n",
       "      <th>225249</th>\n",
       "      <td> secundum</td>\n",
       "      <td> aliquis</td>\n",
       "      <td>   case</td>\n",
       "    </tr>\n",
       "    <tr>\n",
       "      <th>225250</th>\n",
       "      <td>      sui</td>\n",
       "      <td> aliquis</td>\n",
       "      <td>   nmod</td>\n",
       "    </tr>\n",
       "    <tr>\n",
       "      <th>225251</th>\n",
       "      <td>      sum</td>\n",
       "      <td>   forma</td>\n",
       "      <td>    cop</td>\n",
       "    </tr>\n",
       "    <tr>\n",
       "      <th>225252</th>\n",
       "      <td>       is</td>\n",
       "      <td>    dico</td>\n",
       "      <td>    obj</td>\n",
       "    </tr>\n",
       "    <tr>\n",
       "      <th>225253</th>\n",
       "      <td>    forma</td>\n",
       "      <td>      is</td>\n",
       "      <td>    acl</td>\n",
       "    </tr>\n",
       "    <tr>\n",
       "      <th>225254</th>\n",
       "      <td>      qui</td>\n",
       "      <td>   forma</td>\n",
       "      <td>  nsubj</td>\n",
       "    </tr>\n",
       "    <tr>\n",
       "      <th>225255</th>\n",
       "      <td>      sum</td>\n",
       "      <td>   forma</td>\n",
       "      <td>    cop</td>\n",
       "    </tr>\n",
       "    <tr>\n",
       "      <th>225256</th>\n",
       "      <td>    anima</td>\n",
       "      <td>    dico</td>\n",
       "      <td>    obj</td>\n",
       "    </tr>\n",
       "    <tr>\n",
       "      <th>225257</th>\n",
       "      <td>     dico</td>\n",
       "      <td>    dico</td>\n",
       "      <td>   conj</td>\n",
       "    </tr>\n",
       "    <tr>\n",
       "      <th>225258</th>\n",
       "      <td>       et</td>\n",
       "      <td>    dico</td>\n",
       "      <td>     cc</td>\n",
       "    </tr>\n",
       "    <tr>\n",
       "      <th>225259</th>\n",
       "      <td>       is</td>\n",
       "      <td>    dico</td>\n",
       "      <td>   iobj</td>\n",
       "    </tr>\n",
       "    <tr>\n",
       "      <th>225260</th>\n",
       "      <td>    forma</td>\n",
       "      <td>      is</td>\n",
       "      <td>    acl</td>\n",
       "    </tr>\n",
       "    <tr>\n",
       "      <th>225261</th>\n",
       "      <td>      qui</td>\n",
       "      <td>   forma</td>\n",
       "      <td>   nmod</td>\n",
       "    </tr>\n",
       "    <tr>\n",
       "      <th>225262</th>\n",
       "      <td>      sum</td>\n",
       "      <td>   forma</td>\n",
       "      <td>    cop</td>\n",
       "    </tr>\n",
       "    <tr>\n",
       "      <th>225263</th>\n",
       "      <td>    animo</td>\n",
       "      <td>    dico</td>\n",
       "      <td>  ccomp</td>\n",
       "    </tr>\n",
       "    <tr>\n",
       "      <th>225264</th>\n",
       "      <td>   primus</td>\n",
       "      <td>   animo</td>\n",
       "      <td>   amod</td>\n",
       "    </tr>\n",
       "    <tr>\n",
       "      <th>225265</th>\n",
       "      <td>     dico</td>\n",
       "      <td>    dico</td>\n",
       "      <td>  advcl</td>\n",
       "    </tr>\n",
       "    <tr>\n",
       "      <th>225266</th>\n",
       "      <td>       ut</td>\n",
       "      <td>    dico</td>\n",
       "      <td>   mark</td>\n",
       "    </tr>\n",
       "    <tr>\n",
       "      <th>225267</th>\n",
       "      <td>    supra</td>\n",
       "      <td>    dico</td>\n",
       "      <td> advmod</td>\n",
       "    </tr>\n",
       "    <tr>\n",
       "      <th>225268</th>\n",
       "      <td>      sum</td>\n",
       "      <td>    dico</td>\n",
       "      <td>    aux</td>\n",
       "    </tr>\n",
       "  </tbody>\n",
       "</table>\n",
       "</div>"
      ],
      "text/plain": [
       "       Dep_Lemma Head_Lemma Relation\n",
       "225249  secundum    aliquis     case\n",
       "225250       sui    aliquis     nmod\n",
       "225251       sum      forma      cop\n",
       "225252        is       dico      obj\n",
       "225253     forma         is      acl\n",
       "225254       qui      forma    nsubj\n",
       "225255       sum      forma      cop\n",
       "225256     anima       dico      obj\n",
       "225257      dico       dico     conj\n",
       "225258        et       dico       cc\n",
       "225259        is       dico     iobj\n",
       "225260     forma         is      acl\n",
       "225261       qui      forma     nmod\n",
       "225262       sum      forma      cop\n",
       "225263     animo       dico    ccomp\n",
       "225264    primus      animo     amod\n",
       "225265      dico       dico    advcl\n",
       "225266        ut       dico     mark\n",
       "225267     supra       dico   advmod\n",
       "225268       sum       dico      aux"
      ]
     },
     "execution_count": 338,
     "metadata": {},
     "output_type": "execute_result"
    }
   ],
   "source": [
    "df_dep_lemma.tail(20)"
   ]
  },
  {
   "cell_type": "markdown",
   "metadata": {},
   "source": [
    "## Generate the counts"
   ]
  },
  {
   "cell_type": "code",
   "execution_count": 339,
   "metadata": {
    "collapsed": false
   },
   "outputs": [],
   "source": [
    "tab = pd.pivot_table(df_dep_lemma,index=[\"Dep_Lemma\",\"Head_Lemma\", \"Relation\"], aggfunc=len)"
   ]
  },
  {
   "cell_type": "code",
   "execution_count": 340,
   "metadata": {
    "collapsed": false
   },
   "outputs": [],
   "source": [
    "tab.to_csv(\"ittb.csv\", sep=\"\\t\", header=True)"
   ]
  },
  {
   "cell_type": "markdown",
   "metadata": {},
   "source": [
    "# Cooccurrence Network"
   ]
  },
  {
   "cell_type": "code",
   "execution_count": 259,
   "metadata": {
    "collapsed": true
   },
   "outputs": [],
   "source": [
    "def getCoocInSent(parsed_sent):\n",
    "    ns = parsed_sent.nodes\n",
    "    lemma_list = [ns[w][\"lemma\"] for w in ns.keys() \n",
    "              if ns[w][\"lemma\"] != None and ns[w][\"ctag\"] != \"PUNCT\"]\n",
    "    return list(bigrams(lemma_list))"
   ]
  },
  {
   "cell_type": "code",
   "execution_count": 263,
   "metadata": {
    "collapsed": false
   },
   "outputs": [],
   "source": [
    "def coocData(parsed_sents):\n",
    "    w1, w2 = [], []\n",
    "    for s in parsed_sents:\n",
    "        sent = getCoocInSent(s)\n",
    "        for line in sent:\n",
    "            w1.append(line[0])\n",
    "            w2.append(line[1])\n",
    "    return pd.DataFrame({\"Prec\": w1, \"Seq\" : w2})"
   ]
  },
  {
   "cell_type": "code",
   "execution_count": 261,
   "metadata": {
    "collapsed": false
   },
   "outputs": [
    {
     "data": {
      "text/plain": [
       "[('multitudo', 'usus'),\n",
       " ('usus', 'qui'),\n",
       " ('qui', 'in'),\n",
       " ('in', 'res'),\n",
       " ('res', 'nomino'),\n",
       " ('nomino', 'sequor'),\n",
       " ('sequor', 'philosophus'),\n",
       " ('philosophus', 'censeo'),\n",
       " ('censeo', 'communis'),\n",
       " ('communis', 'obtineo'),\n",
       " ('obtineo', 'ut'),\n",
       " ('ut', 'sapiens'),\n",
       " ('sapiens', 'dico'),\n",
       " ('dico', 'qui'),\n",
       " ('qui', 'res'),\n",
       " ('res', 'directus'),\n",
       " ('directus', 'ordino'),\n",
       " ('ordino', 'et'),\n",
       " ('et', 'is'),\n",
       " ('is', 'bene'),\n",
       " ('bene', 'guberno')]"
      ]
     },
     "execution_count": 261,
     "metadata": {},
     "output_type": "execute_result"
    }
   ],
   "source": [
    "getCoocInSent(d)"
   ]
  },
  {
   "cell_type": "code",
   "execution_count": 257,
   "metadata": {
    "collapsed": true
   },
   "outputs": [],
   "source": [
    "from nltk import bigrams"
   ]
  },
  {
   "cell_type": "code",
   "execution_count": 251,
   "metadata": {
    "collapsed": true
   },
   "outputs": [],
   "source": [
    "d = parsed[3]"
   ]
  },
  {
   "cell_type": "code",
   "execution_count": 252,
   "metadata": {
    "collapsed": false
   },
   "outputs": [
    {
     "name": "stdout",
     "output_type": "stream",
     "text": [
      "multitudinis\tC1|grn1|casB|gen2|stRS\t2\n",
      "usus\tD1|grn1|casA|gen1|stAN\t13\n",
      ",\tPunc\t10\n",
      "quem\tF1|grn1|casD|gen1|stPV\t10\n",
      "in\tS4|stRL\t6\n",
      "rebus\tE1|grn1|casO|gen2|stRS\t8\n",
      "nominandis\tJ2|modO|grp1|casO|gen2|stAE\t6\n",
      "sequendum\tL2|modO|grp1|casD|gen1|stAV\t10\n",
      "philosophus\tB1|grn1|casA|gen1|stRS\t10\n",
      "censet\tK3|modA|tem1|gen6|stAC\t2\n",
      ",\tPunc\t10\n",
      "communiter\tC1|grn1|casG|stAN\t13\n",
      "obtinuit\tK3|modA|tem4|gen6|stAV\t0\n",
      "ut\tO4|vgr1|stRL\t15\n",
      "sapientes\tC1|grn1|casJ|gen1|stAC\t13\n",
      "dicantur\tL3|modK|tem1|gen9|stAE\t15\n",
      "qui\tF1|grn1|casJ|gen1|stPV\t20\n",
      "res\tE1|grn1|casM|gen2|stRS\t20\n",
      "directe\tB1|grn1|casG|stAV\t20\n",
      "ordinant\tJ3|modA|tem1|gen9|stAV\t15\n",
      "et\tO4|stRL\t24\n",
      "eas\tF1|grn1|casM|gen2|stPV\t24\n",
      "bene\tO4|stRL\t24\n",
      "gubernant\tJ3|modA|tem1|gen9|stAV\t20\n",
      ".\tPunc\t13\n",
      "\n"
     ]
    }
   ],
   "source": [
    "print(d.to_conll(3))"
   ]
  },
  {
   "cell_type": "code",
   "execution_count": 253,
   "metadata": {
    "collapsed": false
   },
   "outputs": [],
   "source": [
    "ns = d.nodes\n",
    "lemma_list = [ns[w][\"lemma\"] for w in ns.keys() \n",
    "              if ns[w][\"lemma\"] != None and ns[w][\"ctag\"] != \"PUNCT\"]"
   ]
  },
  {
   "cell_type": "code",
   "execution_count": 254,
   "metadata": {
    "collapsed": false
   },
   "outputs": [
    {
     "data": {
      "text/plain": [
       "['multitudo',\n",
       " 'usus',\n",
       " 'qui',\n",
       " 'in',\n",
       " 'res',\n",
       " 'nomino',\n",
       " 'sequor',\n",
       " 'philosophus',\n",
       " 'censeo',\n",
       " 'communis',\n",
       " 'obtineo',\n",
       " 'ut',\n",
       " 'sapiens',\n",
       " 'dico',\n",
       " 'qui',\n",
       " 'res',\n",
       " 'directus',\n",
       " 'ordino',\n",
       " 'et',\n",
       " 'is',\n",
       " 'bene',\n",
       " 'guberno']"
      ]
     },
     "execution_count": 254,
     "metadata": {},
     "output_type": "execute_result"
    }
   ],
   "source": [
    "lemma_list"
   ]
  },
  {
   "cell_type": "code",
   "execution_count": 264,
   "metadata": {
    "collapsed": false
   },
   "outputs": [
    {
     "data": {
      "text/plain": [
       "[('multitudo', 'usus'),\n",
       " ('usus', 'qui'),\n",
       " ('qui', 'in'),\n",
       " ('in', 'res'),\n",
       " ('res', 'nomino'),\n",
       " ('nomino', 'sequor'),\n",
       " ('sequor', 'philosophus'),\n",
       " ('philosophus', 'censeo'),\n",
       " ('censeo', 'communis'),\n",
       " ('communis', 'obtineo'),\n",
       " ('obtineo', 'ut'),\n",
       " ('ut', 'sapiens'),\n",
       " ('sapiens', 'dico'),\n",
       " ('dico', 'qui'),\n",
       " ('qui', 'res'),\n",
       " ('res', 'directus'),\n",
       " ('directus', 'ordino'),\n",
       " ('ordino', 'et'),\n",
       " ('et', 'is'),\n",
       " ('is', 'bene'),\n",
       " ('bene', 'guberno')]"
      ]
     },
     "execution_count": 264,
     "metadata": {},
     "output_type": "execute_result"
    }
   ],
   "source": [
    "list(bigrams(lemma_list))"
   ]
  },
  {
   "cell_type": "code",
   "execution_count": 265,
   "metadata": {
    "collapsed": true
   },
   "outputs": [],
   "source": [
    "df_cooc = coocData(parsed)"
   ]
  },
  {
   "cell_type": "code",
   "execution_count": 277,
   "metadata": {
    "collapsed": false
   },
   "outputs": [
    {
     "data": {
      "text/html": [
       "<div style=\"max-height:1000px;max-width:1500px;overflow:auto;\">\n",
       "<table border=\"1\" class=\"dataframe\">\n",
       "  <thead>\n",
       "    <tr style=\"text-align: right;\">\n",
       "      <th></th>\n",
       "      <th>Prec</th>\n",
       "      <th>Seq</th>\n",
       "    </tr>\n",
       "  </thead>\n",
       "  <tbody>\n",
       "    <tr>\n",
       "      <th>0</th>\n",
       "      <td>      qui</td>\n",
       "      <td>      sum</td>\n",
       "    </tr>\n",
       "    <tr>\n",
       "      <th>1</th>\n",
       "      <td>      sum</td>\n",
       "      <td> officium</td>\n",
       "    </tr>\n",
       "    <tr>\n",
       "      <th>2</th>\n",
       "      <td> officium</td>\n",
       "      <td>  sapiens</td>\n",
       "    </tr>\n",
       "    <tr>\n",
       "      <th>3</th>\n",
       "      <td>  veritas</td>\n",
       "      <td>  meditor</td>\n",
       "    </tr>\n",
       "    <tr>\n",
       "      <th>4</th>\n",
       "      <td>  meditor</td>\n",
       "      <td>   guttur</td>\n",
       "    </tr>\n",
       "  </tbody>\n",
       "</table>\n",
       "</div>"
      ],
      "text/plain": [
       "       Prec       Seq\n",
       "0       qui       sum\n",
       "1       sum  officium\n",
       "2  officium   sapiens\n",
       "3   veritas   meditor\n",
       "4   meditor    guttur"
      ]
     },
     "execution_count": 277,
     "metadata": {},
     "output_type": "execute_result"
    }
   ],
   "source": [
    "df_cooc.head(5)"
   ]
  },
  {
   "cell_type": "code",
   "execution_count": 274,
   "metadata": {
    "collapsed": false
   },
   "outputs": [],
   "source": [
    "words = unidep.words()"
   ]
  },
  {
   "cell_type": "markdown",
   "metadata": {},
   "source": [
    "# Scrapbook "
   ]
  },
  {
   "cell_type": "code",
   "execution_count": 90,
   "metadata": {
    "collapsed": false
   },
   "outputs": [
    {
     "data": {
      "text/plain": [
       "\"None\\tTOP\\t0\\tTOP\\tdefaultdict(<class 'list'>, {'ROOT': [], 'root': [2]})\\tNone\\tNone\\tNone\\tNone\""
      ]
     },
     "execution_count": 90,
     "metadata": {},
     "output_type": "execute_result"
    }
   ],
   "source": [
    "newg = DependencyGraph(d.to_conll(10), top_relation_label=\"root\")\n",
    "n = d.nodes[0]\n",
    "col_keys = ['feats', 'tag', 'address', 'ctag', 'deps', 'head', 'rel', 'lemma', 'word']\n",
    "\"\\t\".join([str(n[k]) for k in col_keys])"
   ]
  },
  {
   "cell_type": "code",
   "execution_count": 23,
   "metadata": {
    "collapsed": true
   },
   "outputs": [],
   "source": [
    "d = deps[1]"
   ]
  },
  {
   "cell_type": "code",
   "execution_count": 27,
   "metadata": {
    "collapsed": false
   },
   "outputs": [
    {
     "name": "stdout",
     "output_type": "stream",
     "text": [
      "1\tIch\tich\tPRON\tPPER\tCase=Nom|Number=Sing|Person=1|PronType=Prs\t2\tnsubj\t_\t_\n",
      "2\thatte\thaben\tVERB\tVAFIN\tMood=Ind|Number=Sing|Person=1|Tense=Past|VerbForm=Fin\t0\troot\t_\t_\n",
      "3\tGelegenheit\tGelegenheit\tNOUN\tNN\tCase=Acc|Gender=Fem|Number=Sing\t2\tobj\t_\t_\n",
      "4\teines\tein\tDET\tART\tCase=Acc|Definite=Ind|Number=Plur|PronType=Art\t6\tdet\t_\t_\n",
      "5\tseiner\tsein\tPRON\tPPOSAT\tCase=Acc|Gender[psor]=Masc,Neut|Number=Plur|Number[psor]=Sing|Person=3|Poss=Yes|PronType=Prs\t6\tdet:poss\t_\t_\n",
      "6\tSeminare\tSeminar\tNOUN\tNN\tCase=Acc|Number=Plur\t8\tobj\t_\t_\n",
      "7\tzu\tzu\tPART\tPTKZU\t_\t8\tmark\t_\t_\n",
      "8\tbesuchen\tbesuchen\tVERB\tVVINF\tVerbForm=Inf\t3\txcomp\t_\t_\n",
      "9\t.\t.\tPUNCT\t$.\t_\t2\tpunct\t_\t_\n",
      "\n"
     ]
    }
   ],
   "source": [
    "print(d.to_conll(10))"
   ]
  },
  {
   "cell_type": "code",
   "execution_count": null,
   "metadata": {
    "collapsed": true
   },
   "outputs": [],
   "source": []
  },
  {
   "cell_type": "code",
   "execution_count": 142,
   "metadata": {
    "collapsed": false
   },
   "outputs": [
    {
     "data": {
      "image/svg+xml": [
       "<?xml version=\"1.0\" encoding=\"UTF-8\" standalone=\"no\"?>\n",
       "<!DOCTYPE svg PUBLIC \"-//W3C//DTD SVG 1.1//EN\"\n",
       " \"http://www.w3.org/Graphics/SVG/1.1/DTD/svg11.dtd\">\n",
       "<!-- Generated by graphviz version 2.32.0 (20130801.1934)\n",
       " -->\n",
       "<!-- Title: G Pages: 1 -->\n",
       "<svg width=\"274pt\" height=\"484pt\"\n",
       " viewBox=\"0.00 0.00 274.00 484.00\" xmlns=\"http://www.w3.org/2000/svg\" xmlns:xlink=\"http://www.w3.org/1999/xlink\">\n",
       "<g id=\"graph0\" class=\"graph\" transform=\"scale(1 1) rotate(0) translate(4 480)\">\n",
       "<title>G</title>\n",
       "<polygon fill=\"white\" stroke=\"white\" points=\"-4,5 -4,-480 271,-480 271,5 -4,5\"/>\n",
       "<!-- 0 -->\n",
       "<g id=\"node1\" class=\"node\"><title>0</title>\n",
       "<text text-anchor=\"middle\" x=\"142\" y=\"-454.3\" font-family=\"Times,serif\" font-size=\"14.00\">0 (None)</text>\n",
       "</g>\n",
       "<!-- 2 -->\n",
       "<g id=\"node2\" class=\"node\"><title>2</title>\n",
       "<text text-anchor=\"middle\" x=\"142\" y=\"-366.3\" font-family=\"Times,serif\" font-size=\"14.00\">2 (hatte)</text>\n",
       "</g>\n",
       "<!-- 0&#45;&gt;2 -->\n",
       "<g id=\"edge1\" class=\"edge\"><title>0&#45;&gt;2</title>\n",
       "<path fill=\"none\" stroke=\"black\" d=\"M142,-439.597C142,-427.746 142,-411.817 142,-398.292\"/>\n",
       "<polygon fill=\"black\" stroke=\"black\" points=\"145.5,-398.084 142,-388.084 138.5,-398.084 145.5,-398.084\"/>\n",
       "<text text-anchor=\"middle\" x=\"153.5\" y=\"-410.3\" font-family=\"Times,serif\" font-size=\"14.00\">root</text>\n",
       "</g>\n",
       "<!-- 1 -->\n",
       "<g id=\"node3\" class=\"node\"><title>1</title>\n",
       "<text text-anchor=\"middle\" x=\"45\" y=\"-278.3\" font-family=\"Times,serif\" font-size=\"14.00\">1 (Ich)</text>\n",
       "</g>\n",
       "<!-- 2&#45;&gt;1 -->\n",
       "<g id=\"edge4\" class=\"edge\"><title>2&#45;&gt;1</title>\n",
       "<path fill=\"none\" stroke=\"black\" d=\"M122.371,-351.597C107.813,-338.69 87.7992,-320.946 71.7742,-306.738\"/>\n",
       "<polygon fill=\"black\" stroke=\"black\" points=\"74.0737,-304.099 64.2692,-300.084 69.4299,-309.337 74.0737,-304.099\"/>\n",
       "<text text-anchor=\"middle\" x=\"118.5\" y=\"-322.3\" font-family=\"Times,serif\" font-size=\"14.00\">nsubj</text>\n",
       "</g>\n",
       "<!-- 3 -->\n",
       "<g id=\"node4\" class=\"node\"><title>3</title>\n",
       "<text text-anchor=\"middle\" x=\"142\" y=\"-278.3\" font-family=\"Times,serif\" font-size=\"14.00\">3 (Gelegenheit)</text>\n",
       "</g>\n",
       "<!-- 2&#45;&gt;3 -->\n",
       "<g id=\"edge2\" class=\"edge\"><title>2&#45;&gt;3</title>\n",
       "<path fill=\"none\" stroke=\"black\" d=\"M142,-351.597C142,-339.746 142,-323.817 142,-310.292\"/>\n",
       "<polygon fill=\"black\" stroke=\"black\" points=\"145.5,-310.084 142,-300.084 138.5,-310.084 145.5,-310.084\"/>\n",
       "<text text-anchor=\"middle\" x=\"151\" y=\"-322.3\" font-family=\"Times,serif\" font-size=\"14.00\">obj</text>\n",
       "</g>\n",
       "<!-- 9 -->\n",
       "<g id=\"node5\" class=\"node\"><title>9</title>\n",
       "<text text-anchor=\"middle\" x=\"239\" y=\"-278.3\" font-family=\"Times,serif\" font-size=\"14.00\">9 (.)</text>\n",
       "</g>\n",
       "<!-- 2&#45;&gt;9 -->\n",
       "<g id=\"edge3\" class=\"edge\"><title>2&#45;&gt;9</title>\n",
       "<path fill=\"none\" stroke=\"black\" d=\"M161.629,-351.597C176.187,-338.69 196.201,-320.946 212.226,-306.738\"/>\n",
       "<polygon fill=\"black\" stroke=\"black\" points=\"214.57,-309.337 219.731,-300.084 209.926,-304.099 214.57,-309.337\"/>\n",
       "<text text-anchor=\"middle\" x=\"216\" y=\"-322.3\" font-family=\"Times,serif\" font-size=\"14.00\">punct</text>\n",
       "</g>\n",
       "<!-- 8 -->\n",
       "<g id=\"node6\" class=\"node\"><title>8</title>\n",
       "<text text-anchor=\"middle\" x=\"142\" y=\"-190.3\" font-family=\"Times,serif\" font-size=\"14.00\">8 (besuchen)</text>\n",
       "</g>\n",
       "<!-- 3&#45;&gt;8 -->\n",
       "<g id=\"edge5\" class=\"edge\"><title>3&#45;&gt;8</title>\n",
       "<path fill=\"none\" stroke=\"black\" d=\"M142,-263.597C142,-251.746 142,-235.817 142,-222.292\"/>\n",
       "<polygon fill=\"black\" stroke=\"black\" points=\"145.5,-222.084 142,-212.084 138.5,-222.084 145.5,-222.084\"/>\n",
       "<text text-anchor=\"middle\" x=\"161.5\" y=\"-234.3\" font-family=\"Times,serif\" font-size=\"14.00\">xcomp</text>\n",
       "</g>\n",
       "<!-- 6 -->\n",
       "<g id=\"node9\" class=\"node\"><title>6</title>\n",
       "<text text-anchor=\"middle\" x=\"75\" y=\"-102.3\" font-family=\"Times,serif\" font-size=\"14.00\">6 (Seminare)</text>\n",
       "</g>\n",
       "<!-- 8&#45;&gt;6 -->\n",
       "<g id=\"edge8\" class=\"edge\"><title>8&#45;&gt;6</title>\n",
       "<path fill=\"none\" stroke=\"black\" d=\"M128.442,-175.597C118.752,-163.159 105.563,-146.23 94.7116,-132.302\"/>\n",
       "<polygon fill=\"black\" stroke=\"black\" points=\"97.2164,-129.822 88.3096,-124.084 91.6944,-134.124 97.2164,-129.822\"/>\n",
       "<text text-anchor=\"middle\" x=\"124\" y=\"-146.3\" font-family=\"Times,serif\" font-size=\"14.00\">obj</text>\n",
       "</g>\n",
       "<!-- 7 -->\n",
       "<g id=\"node10\" class=\"node\"><title>7</title>\n",
       "<text text-anchor=\"middle\" x=\"165\" y=\"-102.3\" font-family=\"Times,serif\" font-size=\"14.00\">7 (zu)</text>\n",
       "</g>\n",
       "<!-- 8&#45;&gt;7 -->\n",
       "<g id=\"edge9\" class=\"edge\"><title>8&#45;&gt;7</title>\n",
       "<path fill=\"none\" stroke=\"black\" d=\"M146.654,-175.597C149.855,-163.629 154.168,-147.501 157.808,-133.891\"/>\n",
       "<polygon fill=\"black\" stroke=\"black\" points=\"161.229,-134.649 160.431,-124.084 154.466,-132.84 161.229,-134.649\"/>\n",
       "<text text-anchor=\"middle\" x=\"170.5\" y=\"-146.3\" font-family=\"Times,serif\" font-size=\"14.00\">mark</text>\n",
       "</g>\n",
       "<!-- 4 -->\n",
       "<g id=\"node7\" class=\"node\"><title>4</title>\n",
       "<text text-anchor=\"middle\" x=\"32\" y=\"-14.3\" font-family=\"Times,serif\" font-size=\"14.00\">4 (eines)</text>\n",
       "</g>\n",
       "<!-- 5 -->\n",
       "<g id=\"node8\" class=\"node\"><title>5</title>\n",
       "<text text-anchor=\"middle\" x=\"118\" y=\"-14.3\" font-family=\"Times,serif\" font-size=\"14.00\">5 (seiner)</text>\n",
       "</g>\n",
       "<!-- 6&#45;&gt;4 -->\n",
       "<g id=\"edge6\" class=\"edge\"><title>6&#45;&gt;4</title>\n",
       "<path fill=\"none\" stroke=\"black\" d=\"M66.2983,-87.5966C60.1969,-75.3939 51.9335,-58.867 45.0465,-45.093\"/>\n",
       "<polygon fill=\"black\" stroke=\"black\" points=\"48.1447,-43.463 40.542,-36.084 41.8837,-46.5936 48.1447,-43.463\"/>\n",
       "<text text-anchor=\"middle\" x=\"67\" y=\"-58.3\" font-family=\"Times,serif\" font-size=\"14.00\">det</text>\n",
       "</g>\n",
       "<!-- 6&#45;&gt;5 -->\n",
       "<g id=\"edge7\" class=\"edge\"><title>6&#45;&gt;5</title>\n",
       "<path fill=\"none\" stroke=\"black\" d=\"M83.7017,-87.5966C89.8031,-75.3939 98.0665,-58.867 104.953,-45.093\"/>\n",
       "<polygon fill=\"black\" stroke=\"black\" points=\"108.116,-46.5936 109.458,-36.084 101.855,-43.463 108.116,-46.5936\"/>\n",
       "<text text-anchor=\"middle\" x=\"124\" y=\"-58.3\" font-family=\"Times,serif\" font-size=\"14.00\">det:poss</text>\n",
       "</g>\n",
       "</g>\n",
       "</svg>\n"
      ],
      "text/plain": [
       "<DependencyGraph with 10 nodes>"
      ]
     },
     "execution_count": 142,
     "metadata": {},
     "output_type": "execute_result"
    }
   ],
   "source": [
    "DependencyGraph(d.to_conll(10), top_relation_label=\"root\")"
   ]
  },
  {
   "cell_type": "code",
   "execution_count": 103,
   "metadata": {
    "collapsed": false
   },
   "outputs": [
    {
     "data": {
      "image/svg+xml": [
       "<?xml version=\"1.0\" encoding=\"UTF-8\" standalone=\"no\"?>\n",
       "<!DOCTYPE svg PUBLIC \"-//W3C//DTD SVG 1.1//EN\"\n",
       " \"http://www.w3.org/Graphics/SVG/1.1/DTD/svg11.dtd\">\n",
       "<!-- Generated by graphviz version 2.32.0 (20130801.1934)\n",
       " -->\n",
       "<!-- Title: G Pages: 1 -->\n",
       "<svg width=\"274pt\" height=\"484pt\"\n",
       " viewBox=\"0.00 0.00 274.00 484.00\" xmlns=\"http://www.w3.org/2000/svg\" xmlns:xlink=\"http://www.w3.org/1999/xlink\">\n",
       "<g id=\"graph0\" class=\"graph\" transform=\"scale(1 1) rotate(0) translate(4 480)\">\n",
       "<title>G</title>\n",
       "<polygon fill=\"white\" stroke=\"white\" points=\"-4,5 -4,-480 271,-480 271,5 -4,5\"/>\n",
       "<!-- 0 -->\n",
       "<g id=\"node1\" class=\"node\"><title>0</title>\n",
       "<text text-anchor=\"middle\" x=\"142\" y=\"-454.3\" font-family=\"Times,serif\" font-size=\"14.00\">0 (None)</text>\n",
       "</g>\n",
       "<!-- 2 -->\n",
       "<g id=\"node2\" class=\"node\"><title>2</title>\n",
       "<text text-anchor=\"middle\" x=\"142\" y=\"-366.3\" font-family=\"Times,serif\" font-size=\"14.00\">2 (hatte)</text>\n",
       "</g>\n",
       "<!-- 0&#45;&gt;2 -->\n",
       "<g id=\"edge1\" class=\"edge\"><title>0&#45;&gt;2</title>\n",
       "<path fill=\"none\" stroke=\"black\" d=\"M142,-439.597C142,-427.746 142,-411.817 142,-398.292\"/>\n",
       "<polygon fill=\"black\" stroke=\"black\" points=\"145.5,-398.084 142,-388.084 138.5,-398.084 145.5,-398.084\"/>\n",
       "<text text-anchor=\"middle\" x=\"153.5\" y=\"-410.3\" font-family=\"Times,serif\" font-size=\"14.00\">root</text>\n",
       "</g>\n",
       "<!-- 1 -->\n",
       "<g id=\"node3\" class=\"node\"><title>1</title>\n",
       "<text text-anchor=\"middle\" x=\"45\" y=\"-278.3\" font-family=\"Times,serif\" font-size=\"14.00\">1 (Ich)</text>\n",
       "</g>\n",
       "<!-- 2&#45;&gt;1 -->\n",
       "<g id=\"edge4\" class=\"edge\"><title>2&#45;&gt;1</title>\n",
       "<path fill=\"none\" stroke=\"black\" d=\"M122.371,-351.597C107.813,-338.69 87.7992,-320.946 71.7742,-306.738\"/>\n",
       "<polygon fill=\"black\" stroke=\"black\" points=\"74.0737,-304.099 64.2692,-300.084 69.4299,-309.337 74.0737,-304.099\"/>\n",
       "<text text-anchor=\"middle\" x=\"118.5\" y=\"-322.3\" font-family=\"Times,serif\" font-size=\"14.00\">nsubj</text>\n",
       "</g>\n",
       "<!-- 3 -->\n",
       "<g id=\"node4\" class=\"node\"><title>3</title>\n",
       "<text text-anchor=\"middle\" x=\"142\" y=\"-278.3\" font-family=\"Times,serif\" font-size=\"14.00\">3 (Gelegenheit)</text>\n",
       "</g>\n",
       "<!-- 2&#45;&gt;3 -->\n",
       "<g id=\"edge2\" class=\"edge\"><title>2&#45;&gt;3</title>\n",
       "<path fill=\"none\" stroke=\"black\" d=\"M142,-351.597C142,-339.746 142,-323.817 142,-310.292\"/>\n",
       "<polygon fill=\"black\" stroke=\"black\" points=\"145.5,-310.084 142,-300.084 138.5,-310.084 145.5,-310.084\"/>\n",
       "<text text-anchor=\"middle\" x=\"151\" y=\"-322.3\" font-family=\"Times,serif\" font-size=\"14.00\">obj</text>\n",
       "</g>\n",
       "<!-- 9 -->\n",
       "<g id=\"node5\" class=\"node\"><title>9</title>\n",
       "<text text-anchor=\"middle\" x=\"239\" y=\"-278.3\" font-family=\"Times,serif\" font-size=\"14.00\">9 (.)</text>\n",
       "</g>\n",
       "<!-- 2&#45;&gt;9 -->\n",
       "<g id=\"edge3\" class=\"edge\"><title>2&#45;&gt;9</title>\n",
       "<path fill=\"none\" stroke=\"black\" d=\"M161.629,-351.597C176.187,-338.69 196.201,-320.946 212.226,-306.738\"/>\n",
       "<polygon fill=\"black\" stroke=\"black\" points=\"214.57,-309.337 219.731,-300.084 209.926,-304.099 214.57,-309.337\"/>\n",
       "<text text-anchor=\"middle\" x=\"216\" y=\"-322.3\" font-family=\"Times,serif\" font-size=\"14.00\">punct</text>\n",
       "</g>\n",
       "<!-- 8 -->\n",
       "<g id=\"node6\" class=\"node\"><title>8</title>\n",
       "<text text-anchor=\"middle\" x=\"142\" y=\"-190.3\" font-family=\"Times,serif\" font-size=\"14.00\">8 (besuchen)</text>\n",
       "</g>\n",
       "<!-- 3&#45;&gt;8 -->\n",
       "<g id=\"edge5\" class=\"edge\"><title>3&#45;&gt;8</title>\n",
       "<path fill=\"none\" stroke=\"black\" d=\"M142,-263.597C142,-251.746 142,-235.817 142,-222.292\"/>\n",
       "<polygon fill=\"black\" stroke=\"black\" points=\"145.5,-222.084 142,-212.084 138.5,-222.084 145.5,-222.084\"/>\n",
       "<text text-anchor=\"middle\" x=\"161.5\" y=\"-234.3\" font-family=\"Times,serif\" font-size=\"14.00\">xcomp</text>\n",
       "</g>\n",
       "<!-- 6 -->\n",
       "<g id=\"node9\" class=\"node\"><title>6</title>\n",
       "<text text-anchor=\"middle\" x=\"75\" y=\"-102.3\" font-family=\"Times,serif\" font-size=\"14.00\">6 (Seminare)</text>\n",
       "</g>\n",
       "<!-- 8&#45;&gt;6 -->\n",
       "<g id=\"edge8\" class=\"edge\"><title>8&#45;&gt;6</title>\n",
       "<path fill=\"none\" stroke=\"black\" d=\"M128.442,-175.597C118.752,-163.159 105.563,-146.23 94.7116,-132.302\"/>\n",
       "<polygon fill=\"black\" stroke=\"black\" points=\"97.2164,-129.822 88.3096,-124.084 91.6944,-134.124 97.2164,-129.822\"/>\n",
       "<text text-anchor=\"middle\" x=\"124\" y=\"-146.3\" font-family=\"Times,serif\" font-size=\"14.00\">obj</text>\n",
       "</g>\n",
       "<!-- 7 -->\n",
       "<g id=\"node10\" class=\"node\"><title>7</title>\n",
       "<text text-anchor=\"middle\" x=\"165\" y=\"-102.3\" font-family=\"Times,serif\" font-size=\"14.00\">7 (zu)</text>\n",
       "</g>\n",
       "<!-- 8&#45;&gt;7 -->\n",
       "<g id=\"edge9\" class=\"edge\"><title>8&#45;&gt;7</title>\n",
       "<path fill=\"none\" stroke=\"black\" d=\"M146.654,-175.597C149.855,-163.629 154.168,-147.501 157.808,-133.891\"/>\n",
       "<polygon fill=\"black\" stroke=\"black\" points=\"161.229,-134.649 160.431,-124.084 154.466,-132.84 161.229,-134.649\"/>\n",
       "<text text-anchor=\"middle\" x=\"170.5\" y=\"-146.3\" font-family=\"Times,serif\" font-size=\"14.00\">mark</text>\n",
       "</g>\n",
       "<!-- 4 -->\n",
       "<g id=\"node7\" class=\"node\"><title>4</title>\n",
       "<text text-anchor=\"middle\" x=\"32\" y=\"-14.3\" font-family=\"Times,serif\" font-size=\"14.00\">4 (eines)</text>\n",
       "</g>\n",
       "<!-- 5 -->\n",
       "<g id=\"node8\" class=\"node\"><title>5</title>\n",
       "<text text-anchor=\"middle\" x=\"118\" y=\"-14.3\" font-family=\"Times,serif\" font-size=\"14.00\">5 (seiner)</text>\n",
       "</g>\n",
       "<!-- 6&#45;&gt;4 -->\n",
       "<g id=\"edge6\" class=\"edge\"><title>6&#45;&gt;4</title>\n",
       "<path fill=\"none\" stroke=\"black\" d=\"M66.2983,-87.5966C60.1969,-75.3939 51.9335,-58.867 45.0465,-45.093\"/>\n",
       "<polygon fill=\"black\" stroke=\"black\" points=\"48.1447,-43.463 40.542,-36.084 41.8837,-46.5936 48.1447,-43.463\"/>\n",
       "<text text-anchor=\"middle\" x=\"67\" y=\"-58.3\" font-family=\"Times,serif\" font-size=\"14.00\">det</text>\n",
       "</g>\n",
       "<!-- 6&#45;&gt;5 -->\n",
       "<g id=\"edge7\" class=\"edge\"><title>6&#45;&gt;5</title>\n",
       "<path fill=\"none\" stroke=\"black\" d=\"M83.7017,-87.5966C89.8031,-75.3939 98.0665,-58.867 104.953,-45.093\"/>\n",
       "<polygon fill=\"black\" stroke=\"black\" points=\"108.116,-46.5936 109.458,-36.084 101.855,-43.463 108.116,-46.5936\"/>\n",
       "<text text-anchor=\"middle\" x=\"124\" y=\"-58.3\" font-family=\"Times,serif\" font-size=\"14.00\">det:poss</text>\n",
       "</g>\n",
       "</g>\n",
       "</svg>\n"
      ],
      "text/plain": [
       "<DependencyGraph with 10 nodes>"
      ]
     },
     "execution_count": 103,
     "metadata": {},
     "output_type": "execute_result"
    }
   ],
   "source": [
    "s = sents[1]\n",
    "s"
   ]
  },
  {
   "cell_type": "code",
   "execution_count": 117,
   "metadata": {
    "collapsed": false
   },
   "outputs": [],
   "source": [
    "n = s.get_by_address(0)"
   ]
  },
  {
   "cell_type": "code",
   "execution_count": 125,
   "metadata": {
    "collapsed": false
   },
   "outputs": [
    {
     "data": {
      "text/plain": [
       "{'address': 0,\n",
       " 'ctag': 'TOP',\n",
       " 'deps': defaultdict(list, {'ROOT': [], 'root': [2]}),\n",
       " 'feats': None,\n",
       " 'head': None,\n",
       " 'lemma': None,\n",
       " 'rel': None,\n",
       " 'tag': 'TOP',\n",
       " 'word': None}"
      ]
     },
     "execution_count": 125,
     "metadata": {},
     "output_type": "execute_result"
    }
   ],
   "source": [
    "s.get_by_address(0)"
   ]
  },
  {
   "cell_type": "code",
   "execution_count": 112,
   "metadata": {
    "collapsed": false
   },
   "outputs": [
    {
     "name": "stdout",
     "output_type": "stream",
     "text": [
      "(('hatte', 'VERB'), 'nsubj', ('Ich', 'PRON'))\n",
      "(('hatte', 'VERB'), 'obj', ('Gelegenheit', 'NOUN'))\n",
      "(('Gelegenheit', 'NOUN'), 'xcomp', ('besuchen', 'VERB'))\n",
      "(('besuchen', 'VERB'), 'obj', ('Seminare', 'NOUN'))\n",
      "(('Seminare', 'NOUN'), 'det', ('eines', 'DET'))\n",
      "(('Seminare', 'NOUN'), 'det:poss', ('seiner', 'PRON'))\n",
      "(('besuchen', 'VERB'), 'mark', ('zu', 'PART'))\n",
      "(('hatte', 'VERB'), 'punct', ('.', 'PUNCT'))\n"
     ]
    }
   ],
   "source": [
    "for t in s.triples(n) : print(t)"
   ]
  },
  {
   "cell_type": "code",
   "execution_count": 1,
   "metadata": {
    "collapsed": true
   },
   "outputs": [
    {
     "ename": "NameError",
     "evalue": "name 't' is not defined",
     "output_type": "error",
     "traceback": [
      "\u001b[0;31m---------------------------------------------------------------------------\u001b[0m",
      "\u001b[0;31mNameError\u001b[0m                                 Traceback (most recent call last)",
      "\u001b[0;32m<ipython-input-1-fa605588125d>\u001b[0m in \u001b[0;36m<module>\u001b[0;34m()\u001b[0m\n\u001b[0;32m----> 1\u001b[0;31m \u001b[0mtype\u001b[0m\u001b[0;34m(\u001b[0m\u001b[0mt\u001b[0m\u001b[0;34m)\u001b[0m\u001b[0;34m\u001b[0m\u001b[0m\n\u001b[0m",
      "\u001b[0;31mNameError\u001b[0m: name 't' is not defined"
     ]
    }
   ],
   "source": [
    "type(t)"
   ]
  },
  {
   "cell_type": "code",
   "execution_count": 6,
   "metadata": {
    "collapsed": true
   },
   "outputs": [],
   "source": [
    "from nltk.corpus.reader import ConllCorpusReader"
   ]
  },
  {
   "cell_type": "code",
   "execution_count": 12,
   "metadata": {
    "collapsed": false
   },
   "outputs": [],
   "source": [
    "#1\tManasse\tManasse\tPROPN\tNN\tCase=Nom|Number=Sing\t5\tnsubj\t_\t_\n",
    "cols = [\"ignore\", 'ignore', 'words', 'pos', 'ignore', 'ignore', 'tree', 'srl', 'ignore', 'ignore']\n",
    "conll = ConllCorpusReader(\"ud-treebanks-conll2017/UD_German\", \"de-ud-dev.conllx\", columntypes=cols)"
   ]
  },
  {
   "cell_type": "code",
   "execution_count": null,
   "metadata": {
    "collapsed": true
   },
   "outputs": [],
   "source": []
  },
  {
   "cell_type": "code",
   "execution_count": 56,
   "metadata": {
    "collapsed": true
   },
   "outputs": [],
   "source": [
    "from nltk.corpus import conll2007"
   ]
  },
  {
   "cell_type": "code",
   "execution_count": 57,
   "metadata": {
    "collapsed": true
   },
   "outputs": [],
   "source": [
    "sents = conll2007.sents('esp.train')"
   ]
  },
  {
   "cell_type": "code",
   "execution_count": 192,
   "metadata": {
    "collapsed": false
   },
   "outputs": [],
   "source": [
    "head = dep = rel = htag = dtag = []"
   ]
  },
  {
   "cell_type": "code",
   "execution_count": 323,
   "metadata": {
    "collapsed": false
   },
   "outputs": [],
   "source": [
    "results = []\n",
    "for l in [\"a\", \"b\", \"c\", \"d\", \"e\"]:\n",
    "    for n in [1,2,3,4,5,6]:\n",
    "        if n == 6:\n",
    "            break\n",
    "        if n == 4:\n",
    "            continue\n",
    "        results.append((l,n))"
   ]
  },
  {
   "cell_type": "code",
   "execution_count": 341,
   "metadata": {
    "collapsed": false
   },
   "outputs": [
    {
     "data": {
      "text/plain": [
       "defaultdict(<function nltk.parse.dependencygraph.DependencyGraph.__init__.<locals>.<lambda>>,\n",
       "            {0: {'address': 0,\n",
       "              'ctag': 'TOP',\n",
       "              'deps': defaultdict(list, {'root': [2]}),\n",
       "              'feats': None,\n",
       "              'head': None,\n",
       "              'lemma': None,\n",
       "              'rel': None,\n",
       "              'tag': 'TOP',\n",
       "              'word': None},\n",
       "             1: {'address': 1,\n",
       "              'ctag': 'NOUN',\n",
       "              'deps': defaultdict(list, {}),\n",
       "              'feats': 'Case=Acc|Degree=Pos|Gender=Fem|Number=Sing',\n",
       "              'head': 2,\n",
       "              'lemma': 'veritas',\n",
       "              'rel': 'obj',\n",
       "              'tag': 'C1|grn1|casD|gen2|vgr1|stAC',\n",
       "              'word': 'veritatem'},\n",
       "             2: {'address': 2,\n",
       "              'ctag': 'VERB',\n",
       "              'deps': defaultdict(list,\n",
       "                          {'conj': [9],\n",
       "                           'nsubj:pass': [3],\n",
       "                           'obj': [1],\n",
       "                           'punct': [11]}),\n",
       "              'feats': 'Mood=Ind|Number=Sing|Person=3|Tense=Fut|VerbForm=Fin|Voice=Pass',\n",
       "              'head': 0,\n",
       "              'lemma': 'meditor',\n",
       "              'rel': 'root',\n",
       "              'tag': 'J3|modJ|tem3|gen6|stAC',\n",
       "              'word': 'meditabitur'},\n",
       "             3: {'address': 3,\n",
       "              'ctag': 'NOUN',\n",
       "              'deps': defaultdict(list, {'det': [4]}),\n",
       "              'feats': 'Case=Nom|Degree=Pos|Gender=Neut|Number=Sing',\n",
       "              'head': 2,\n",
       "              'lemma': 'guttur',\n",
       "              'rel': 'nsubj:pass',\n",
       "              'tag': 'C1|grn1|casA|gen3|stRS',\n",
       "              'word': 'guttur'},\n",
       "             4: {'address': 4,\n",
       "              'ctag': 'DET',\n",
       "              'deps': defaultdict(list, {}),\n",
       "              'feats': 'Case=Nom|Degree=Pos|Gender=Neut|Number=Sing|Poss=Yes|PronType=Prs',\n",
       "              'head': 3,\n",
       "              'lemma': 'meus',\n",
       "              'rel': 'det',\n",
       "              'tag': 'F1|grn1|casA|gen3|stPV',\n",
       "              'word': 'meum'},\n",
       "             5: {'address': 5,\n",
       "              'ctag': 'PUNCT',\n",
       "              'deps': defaultdict(list, {}),\n",
       "              'feats': '_',\n",
       "              'head': 9,\n",
       "              'lemma': ',',\n",
       "              'rel': 'punct',\n",
       "              'tag': 'Punc',\n",
       "              'word': ','},\n",
       "             6: {'address': 6,\n",
       "              'ctag': 'CCONJ',\n",
       "              'deps': defaultdict(list, {}),\n",
       "              'feats': '_',\n",
       "              'head': 9,\n",
       "              'lemma': 'et',\n",
       "              'rel': 'cc',\n",
       "              'tag': 'O4|stRL',\n",
       "              'word': 'et'},\n",
       "             7: {'address': 7,\n",
       "              'ctag': 'NOUN',\n",
       "              'deps': defaultdict(list, {'det': [8]}),\n",
       "              'feats': 'Case=Nom|Degree=Pos|Gender=Neut|Number=Plur',\n",
       "              'head': 9,\n",
       "              'lemma': 'labium',\n",
       "              'rel': 'nsubj:pass',\n",
       "              'tag': 'B1|grn1|casJ|gen3|stRS',\n",
       "              'word': 'labia'},\n",
       "             8: {'address': 8,\n",
       "              'ctag': 'DET',\n",
       "              'deps': defaultdict(list, {}),\n",
       "              'feats': 'Case=Nom|Degree=Pos|Gender=Neut|Number=Plur|Poss=Yes|PronType=Prs',\n",
       "              'head': 7,\n",
       "              'lemma': 'meus',\n",
       "              'rel': 'det',\n",
       "              'tag': 'F1|grn1|casJ|gen3|stPV',\n",
       "              'word': 'mea'},\n",
       "             9: {'address': 9,\n",
       "              'ctag': 'VERB',\n",
       "              'deps': defaultdict(list,\n",
       "                          {'cc': [6],\n",
       "                           'nsubj:pass': [7],\n",
       "                           'obj': [10],\n",
       "                           'punct': [5]}),\n",
       "              'feats': 'Mood=Ind|Number=Plur|Person=3|Tense=Fut|VerbForm=Fin|Voice=Pass',\n",
       "              'head': 2,\n",
       "              'lemma': 'detestor',\n",
       "              'rel': 'conj',\n",
       "              'tag': 'J3|modJ|tem3|gen9|stAE',\n",
       "              'word': 'detestabuntur'},\n",
       "             10: {'address': 10,\n",
       "              'ctag': 'ADJ',\n",
       "              'deps': defaultdict(list, {}),\n",
       "              'feats': 'Case=Acc|Degree=Pos|Gender=Neut|Number=Sing',\n",
       "              'head': 9,\n",
       "              'lemma': 'impius',\n",
       "              'rel': 'obj',\n",
       "              'tag': 'B1|grn1|casD|gen3|stAM',\n",
       "              'word': 'impium'},\n",
       "             11: {'address': 11,\n",
       "              'ctag': 'PUNCT',\n",
       "              'deps': defaultdict(list, {}),\n",
       "              'feats': '_',\n",
       "              'head': 2,\n",
       "              'lemma': '.',\n",
       "              'rel': 'punct',\n",
       "              'tag': 'Punc',\n",
       "              'word': '.'}})"
      ]
     },
     "execution_count": 341,
     "metadata": {},
     "output_type": "execute_result"
    }
   ],
   "source": [
    "d.nodes"
   ]
  },
  {
   "cell_type": "code",
   "execution_count": 346,
   "metadata": {
    "collapsed": false
   },
   "outputs": [
    {
     "ename": "TypeError",
     "evalue": "'int' object is not iterable",
     "output_type": "error",
     "traceback": [
      "\u001b[0;31m---------------------------------------------------------------------------\u001b[0m",
      "\u001b[0;31mTypeError\u001b[0m                                 Traceback (most recent call last)",
      "\u001b[0;32m<ipython-input-346-534c8db05305>\u001b[0m in \u001b[0;36m<module>\u001b[0;34m()\u001b[0m\n\u001b[1;32m      1\u001b[0m \u001b[0mi\u001b[0m \u001b[0;34m=\u001b[0m \u001b[0;36m0\u001b[0m\u001b[0;34m\u001b[0m\u001b[0m\n\u001b[0;32m----> 2\u001b[0;31m \u001b[0;32mfor\u001b[0m \u001b[0mk\u001b[0m\u001b[0;34m,\u001b[0m\u001b[0mv\u001b[0m \u001b[0;32min\u001b[0m \u001b[0md\u001b[0m\u001b[0;34m.\u001b[0m\u001b[0mnodes\u001b[0m\u001b[0;34m:\u001b[0m\u001b[0;34m\u001b[0m\u001b[0m\n\u001b[0m\u001b[1;32m      3\u001b[0m     \u001b[0;32mif\u001b[0m \u001b[0mv\u001b[0m\u001b[0;34m[\u001b[0m\u001b[0;34m\"ctag\"\u001b[0m\u001b[0;34m]\u001b[0m \u001b[0;34m==\u001b[0m \u001b[0;34m\"TOP\"\u001b[0m \u001b[0;32mor\u001b[0m \u001b[0mv\u001b[0m\u001b[0;34m[\u001b[0m\u001b[0;34m\"ctag\"\u001b[0m\u001b[0;34m]\u001b[0m \u001b[0;34m==\u001b[0m \u001b[0;34m\"PUNCT\"\u001b[0m\u001b[0;34m:\u001b[0m\u001b[0;34m\u001b[0m\u001b[0m\n\u001b[1;32m      4\u001b[0m         \u001b[0;32mcontinue\u001b[0m\u001b[0;34m\u001b[0m\u001b[0m\n\u001b[1;32m      5\u001b[0m     \u001b[0;32melse\u001b[0m\u001b[0;34m:\u001b[0m\u001b[0;34m\u001b[0m\u001b[0m\n",
      "\u001b[0;31mTypeError\u001b[0m: 'int' object is not iterable"
     ]
    }
   ],
   "source": [
    "i = 0\n",
    "for k,v in d.nodes:\n",
    "    if v[\"ctag\"] == \"TOP\" or v[\"ctag\"] == \"PUNCT\":\n",
    "        continue\n",
    "    else:\n",
    "        i += 1"
   ]
  },
  {
   "cell_type": "code",
   "execution_count": 356,
   "metadata": {
    "collapsed": false
   },
   "outputs": [
    {
     "data": {
      "text/plain": [
       "9"
      ]
     },
     "execution_count": 356,
     "metadata": {},
     "output_type": "execute_result"
    }
   ],
   "source": [
    "i"
   ]
  },
  {
   "cell_type": "code",
   "execution_count": 345,
   "metadata": {
    "collapsed": false
   },
   "outputs": [
    {
     "name": "stdout",
     "output_type": "stream",
     "text": [
      "1\tveritatem\tveritas\tNOUN\tC1|grn1|casD|gen2|vgr1|stAC\tCase=Acc|Degree=Pos|Gender=Fem|Number=Sing\t2\tobj\t_\t_\n",
      "2\tmeditabitur\tmeditor\tVERB\tJ3|modJ|tem3|gen6|stAC\tMood=Ind|Number=Sing|Person=3|Tense=Fut|VerbForm=Fin|Voice=Pass\t0\troot\t_\t_\n",
      "3\tguttur\tguttur\tNOUN\tC1|grn1|casA|gen3|stRS\tCase=Nom|Degree=Pos|Gender=Neut|Number=Sing\t2\tnsubj:pass\t_\t_\n",
      "4\tmeum\tmeus\tDET\tF1|grn1|casA|gen3|stPV\tCase=Nom|Degree=Pos|Gender=Neut|Number=Sing|Poss=Yes|PronType=Prs\t3\tdet\t_\t_\n",
      "5\t,\t,\tPUNCT\tPunc\t_\t9\tpunct\t_\t_\n",
      "6\tet\tet\tCCONJ\tO4|stRL\t_\t9\tcc\t_\t_\n",
      "7\tlabia\tlabium\tNOUN\tB1|grn1|casJ|gen3|stRS\tCase=Nom|Degree=Pos|Gender=Neut|Number=Plur\t9\tnsubj:pass\t_\t_\n",
      "8\tmea\tmeus\tDET\tF1|grn1|casJ|gen3|stPV\tCase=Nom|Degree=Pos|Gender=Neut|Number=Plur|Poss=Yes|PronType=Prs\t7\tdet\t_\t_\n",
      "9\tdetestabuntur\tdetestor\tVERB\tJ3|modJ|tem3|gen9|stAE\tMood=Ind|Number=Plur|Person=3|Tense=Fut|VerbForm=Fin|Voice=Pass\t2\tconj\t_\t_\n",
      "10\timpium\timpius\tADJ\tB1|grn1|casD|gen3|stAM\tCase=Acc|Degree=Pos|Gender=Neut|Number=Sing\t9\tobj\t_\t_\n",
      "11\t.\t.\tPUNCT\tPunc\t_\t2\tpunct\t_\t_\n",
      "\n"
     ]
    }
   ],
   "source": [
    "print(d.to_conll(10))"
   ]
  },
  {
   "cell_type": "code",
   "execution_count": null,
   "metadata": {
    "collapsed": true
   },
   "outputs": [],
   "source": []
  }
 ],
 "metadata": {
  "kernelspec": {
   "display_name": "Python 3",
   "language": "python",
   "name": "python3"
  },
  "language_info": {
   "codemirror_mode": {
    "name": "ipython",
    "version": 3
   },
   "file_extension": ".py",
   "mimetype": "text/x-python",
   "name": "python",
   "nbconvert_exporter": "python",
   "pygments_lexer": "ipython3",
   "version": "3.4.5"
  },
  "toc": {
   "colors": {
    "hover_highlight": "#DAA520",
    "running_highlight": "#FF0000",
    "selected_highlight": "#FFD700"
   },
   "moveMenuLeft": true,
   "nav_menu": {
    "height": "12px",
    "width": "252px"
   },
   "navigate_menu": true,
   "number_sections": true,
   "sideBar": true,
   "threshold": 4,
   "toc_cell": false,
   "toc_section_display": "block",
   "toc_window_display": true
  }
 },
 "nbformat": 4,
 "nbformat_minor": 2
}
